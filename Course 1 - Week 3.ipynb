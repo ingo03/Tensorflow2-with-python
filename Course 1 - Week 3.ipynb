{
 "cells": [
  {
   "cell_type": "markdown",
   "metadata": {},
   "source": [
    "## Course 1 Getting Started with TensorFlow 2 - Week 3 Validation Sets"
   ]
  },
  {
   "cell_type": "markdown",
   "metadata": {},
   "source": [
    "---"
   ]
  },
  {
   "cell_type": "markdown",
   "metadata": {},
   "source": [
    "#### 1.3.2 Model Validation"
   ]
  },
  {
   "cell_type": "code",
   "execution_count": 2,
   "metadata": {},
   "outputs": [],
   "source": [
    "from tensorflow.keras.models import Sequential\n",
    "from tensorflow.keras.layers import Dense\n",
    "from tensorflow.keras.optimizers import Adam"
   ]
  },
  {
   "cell_type": "code",
   "execution_count": 3,
   "metadata": {},
   "outputs": [
    {
     "data": {
      "text/plain": [
       "\"\\nmodel = Sequential()\\nmodel.add(Dense(128, activation = 'tanh'))\\nmodel.add(Dense(2))\\n\\nopt = Adam(learning_rate = 0.05)\\nmodel.compile(optimizer = opt, loss = 'mse', metrics = ['mape'])\\n\\nhistory = model.fit(inputs, targets, validation_split = 0.2) # 20% of inputs would be in the validation set\\n\\nprint(history.history.keys()) # dict_keys(['loss', 'mape', 'val_loss', 'val_mape'])\\n\""
      ]
     },
     "execution_count": 3,
     "metadata": {},
     "output_type": "execute_result"
    }
   ],
   "source": [
    "'''\n",
    "model = Sequential()\n",
    "model.add(Dense(128, activation = 'tanh'))\n",
    "model.add(Dense(2))\n",
    "\n",
    "opt = Adam(learning_rate = 0.05)\n",
    "model.compile(optimizer = opt, loss = 'mse', metrics = ['mape'])\n",
    "\n",
    "history = model.fit(inputs, targets, validation_split = 0.2) # 20% of inputs would be in the validation set\n",
    "\n",
    "print(history.history.keys()) # dict_keys(['loss', 'mape', 'val_loss', 'val_mape'])\n",
    "'''"
   ]
  },
  {
   "cell_type": "markdown",
   "metadata": {},
   "source": [
    "- Other ways to make validation sets"
   ]
  },
  {
   "cell_type": "code",
   "execution_count": 4,
   "metadata": {},
   "outputs": [
    {
     "data": {
      "text/plain": [
       "'\\nimport tensorflow as tf\\n\\n(X_train, Y_train), (X_test, Y_test) = tf.keras.datasets.fashion_data.load_data()\\n\\nmodel.fit(X_train, Y_train, validation_data = (X_test, Y_test))\\n'"
      ]
     },
     "execution_count": 4,
     "metadata": {},
     "output_type": "execute_result"
    }
   ],
   "source": [
    "# 1\n",
    "'''\n",
    "import tensorflow as tf\n",
    "\n",
    "(X_train, Y_train), (X_test, Y_test) = tf.keras.datasets.fashion_data.load_data()\n",
    "\n",
    "model.fit(X_train, Y_train, validation_data = (X_test, Y_test))\n",
    "'''"
   ]
  },
  {
   "cell_type": "code",
   "execution_count": 5,
   "metadata": {},
   "outputs": [
    {
     "data": {
      "text/plain": [
       "'\\nfrom sklearn.model_selection import train_test_split\\nX_train, X_test, y_train, y_test = train_test_split(X, y, test_size=p1)\\nmodel.fit(X_train, y_train, validation_split=p2)\\n'"
      ]
     },
     "execution_count": 5,
     "metadata": {},
     "output_type": "execute_result"
    }
   ],
   "source": [
    "# 2\n",
    "'''\n",
    "from sklearn.model_selection import train_test_split\n",
    "X_train, X_test, y_train, y_test = train_test_split(X, y, test_size=p1)\n",
    "model.fit(X_train, y_train, validation_split=p2)\n",
    "'''"
   ]
  },
  {
   "cell_type": "markdown",
   "metadata": {},
   "source": [
    "* Coding Tutorial"
   ]
  },
  {
   "cell_type": "code",
   "execution_count": 6,
   "metadata": {},
   "outputs": [],
   "source": [
    "import tensorflow as tf"
   ]
  },
  {
   "cell_type": "markdown",
   "metadata": {},
   "source": [
    "    - Validation Sets"
   ]
  },
  {
   "cell_type": "code",
   "execution_count": 7,
   "metadata": {},
   "outputs": [
    {
     "name": "stdout",
     "output_type": "stream",
     "text": [
      ".. _diabetes_dataset:\n",
      "\n",
      "Diabetes dataset\n",
      "----------------\n",
      "\n",
      "Ten baseline variables, age, sex, body mass index, average blood\n",
      "pressure, and six blood serum measurements were obtained for each of n =\n",
      "442 diabetes patients, as well as the response of interest, a\n",
      "quantitative measure of disease progression one year after baseline.\n",
      "\n",
      "**Data Set Characteristics:**\n",
      "\n",
      "  :Number of Instances: 442\n",
      "\n",
      "  :Number of Attributes: First 10 columns are numeric predictive values\n",
      "\n",
      "  :Target: Column 11 is a quantitative measure of disease progression one year after baseline\n",
      "\n",
      "  :Attribute Information:\n",
      "      - age     age in years\n",
      "      - sex\n",
      "      - bmi     body mass index\n",
      "      - bp      average blood pressure\n",
      "      - s1      tc, total serum cholesterol\n",
      "      - s2      ldl, low-density lipoproteins\n",
      "      - s3      hdl, high-density lipoproteins\n",
      "      - s4      tch, total cholesterol / HDL\n",
      "      - s5      ltg, possibly log of serum triglycerides level\n",
      "      - s6      glu, blood sugar level\n",
      "\n",
      "Note: Each of these 10 feature variables have been mean centered and scaled by the standard deviation times the square root of `n_samples` (i.e. the sum of squares of each column totals 1).\n",
      "\n",
      "Source URL:\n",
      "https://www4.stat.ncsu.edu/~boos/var.select/diabetes.html\n",
      "\n",
      "For more information see:\n",
      "Bradley Efron, Trevor Hastie, Iain Johnstone and Robert Tibshirani (2004) \"Least Angle Regression,\" Annals of Statistics (with discussion), 407-499.\n",
      "(https://web.stanford.edu/~hastie/Papers/LARS/LeastAngle_2002.pdf)\n",
      "\n"
     ]
    }
   ],
   "source": [
    "# Load the Data\n",
    "from sklearn.datasets import load_diabetes\n",
    "\n",
    "diabetes_dataset = load_diabetes()\n",
    "print(diabetes_dataset[\"DESCR\"])"
   ]
  },
  {
   "cell_type": "code",
   "execution_count": 8,
   "metadata": {},
   "outputs": [
    {
     "name": "stdout",
     "output_type": "stream",
     "text": [
      "dict_keys(['data', 'target', 'frame', 'DESCR', 'feature_names', 'data_filename', 'target_filename', 'data_module'])\n"
     ]
    }
   ],
   "source": [
    "print(diabetes_dataset.keys())"
   ]
  },
  {
   "cell_type": "code",
   "execution_count": 9,
   "metadata": {},
   "outputs": [],
   "source": [
    "# Save the input and target variables\n",
    "\n",
    "data = diabetes_dataset['data']\n",
    "targets = diabetes_dataset['target']"
   ]
  },
  {
   "cell_type": "code",
   "execution_count": 10,
   "metadata": {},
   "outputs": [],
   "source": [
    "# Normalize the target data (this will make clearer training canvas)\n",
    "targets = (targets - targets.mean(axis=0)) / targets.std()"
   ]
  },
  {
   "cell_type": "code",
   "execution_count": 11,
   "metadata": {},
   "outputs": [
    {
     "name": "stdout",
     "output_type": "stream",
     "text": [
      "(397, 10)\n",
      "(45, 10)\n",
      "(397,)\n",
      "(45,)\n"
     ]
    }
   ],
   "source": [
    "# Split the data into train and test sets\n",
    "\n",
    "from sklearn.model_selection import train_test_split\n",
    "\n",
    "train_data, test_data, train_targets, test_targets = train_test_split(data, targets, test_size=0.1)\n",
    "\n",
    "print(train_data.shape)\n",
    "print(test_data.shape)\n",
    "print(train_targets.shape)\n",
    "print(test_targets.shape)"
   ]
  },
  {
   "cell_type": "markdown",
   "metadata": {},
   "source": [
    "    - Train a feedforward neural network model"
   ]
  },
  {
   "cell_type": "code",
   "execution_count": 12,
   "metadata": {},
   "outputs": [],
   "source": [
    "# Build the model\n",
    "\n",
    "from tensorflow.keras.models import Sequential\n",
    "from tensorflow.keras.layers import Dense\n",
    "\n",
    "def get_model():\n",
    "    model = Sequential([\n",
    "        Dense(128, activation = 'relu', input_shape = (train_data.shape[1],)),\n",
    "        Dense(128, activation = 'relu'),\n",
    "        Dense(128, activation = 'relu'),\n",
    "        Dense(128, activation = 'relu'),\n",
    "        Dense(128, activation = 'relu'),\n",
    "        Dense(128, activation = 'relu'),\n",
    "        Dense(1)\n",
    "    ])\n",
    "    return model\n",
    "\n",
    "model = get_model()"
   ]
  },
  {
   "cell_type": "code",
   "execution_count": 13,
   "metadata": {},
   "outputs": [
    {
     "name": "stdout",
     "output_type": "stream",
     "text": [
      "Model: \"sequential\"\n",
      "_________________________________________________________________\n",
      " Layer (type)                Output Shape              Param #   \n",
      "=================================================================\n",
      " dense (Dense)               (None, 128)               1408      \n",
      "                                                                 \n",
      " dense_1 (Dense)             (None, 128)               16512     \n",
      "                                                                 \n",
      " dense_2 (Dense)             (None, 128)               16512     \n",
      "                                                                 \n",
      " dense_3 (Dense)             (None, 128)               16512     \n",
      "                                                                 \n",
      " dense_4 (Dense)             (None, 128)               16512     \n",
      "                                                                 \n",
      " dense_5 (Dense)             (None, 128)               16512     \n",
      "                                                                 \n",
      " dense_6 (Dense)             (None, 1)                 129       \n",
      "                                                                 \n",
      "=================================================================\n",
      "Total params: 84097 (328.50 KB)\n",
      "Trainable params: 84097 (328.50 KB)\n",
      "Non-trainable params: 0 (0.00 Byte)\n",
      "_________________________________________________________________\n"
     ]
    }
   ],
   "source": [
    "model.summary()"
   ]
  },
  {
   "cell_type": "code",
   "execution_count": 14,
   "metadata": {},
   "outputs": [],
   "source": [
    "# Compile the model\n",
    "\n",
    "model.compile(\n",
    "    optimizer = 'adam',\n",
    "    loss ='mse',\n",
    "    metrics=['mae']\n",
    ")"
   ]
  },
  {
   "cell_type": "code",
   "execution_count": 15,
   "metadata": {},
   "outputs": [],
   "source": [
    "# Train the model, with some of the data reserved for validation\n",
    "\n",
    "history = model.fit(train_data, train_targets, epochs = 100, validation_split = 0.15, batch_size=64, verbose=False)"
   ]
  },
  {
   "cell_type": "code",
   "execution_count": 16,
   "metadata": {},
   "outputs": [
    {
     "name": "stdout",
     "output_type": "stream",
     "text": [
      "2/2 - 0s - loss: 1.3289 - mae: 0.9749 - 17ms/epoch - 9ms/step\n"
     ]
    },
    {
     "data": {
      "text/plain": [
       "[1.3288718461990356, 0.9748846888542175]"
      ]
     },
     "execution_count": 16,
     "metadata": {},
     "output_type": "execute_result"
    }
   ],
   "source": [
    "# Evaluate the model on the test set\n",
    "\n",
    "model.evaluate(test_data, test_targets, verbose=2)"
   ]
  },
  {
   "cell_type": "markdown",
   "metadata": {},
   "source": [
    "    - Plot the learning curves"
   ]
  },
  {
   "cell_type": "code",
   "execution_count": 17,
   "metadata": {},
   "outputs": [],
   "source": [
    "import matplotlib.pyplot as plt\n",
    "%matplotlib inline"
   ]
  },
  {
   "cell_type": "code",
   "execution_count": 18,
   "metadata": {},
   "outputs": [
    {
     "data": {
      "image/png": "[encoded data removed]",
      "text/plain": [
       "<Figure size 640x480 with 1 Axes>"
      ]
     },
     "metadata": {},
     "output_type": "display_data"
    }
   ],
   "source": [
    "# Plot the training and validation loss\n",
    "\n",
    "plt.plot(history.history['loss'])\n",
    "plt.plot(history.history['val_loss'])\n",
    "plt.title('Loss vs epochs')\n",
    "plt.ylabel('Loss')\n",
    "plt.xlabel('Epoch')\n",
    "plt.legend(['Training', 'Validation'], loc = 'upper right')\n",
    "plt.show()"
   ]
  },
  {
   "cell_type": "markdown",
   "metadata": {},
   "source": [
    "#### 1.3.3 Model Regularisation"
   ]
  },
  {
   "cell_type": "code",
   "execution_count": 19,
   "metadata": {},
   "outputs": [
    {
     "data": {
      "text/plain": [
       "\"\\nfrom tensorflow.keras.models import Sequential\\nfrom tensorflow.keras.layers import Dense\\n\\nmodel = Sequential([\\n    Dense(64, activation = 'relu',\\n          kernel_regularizer = tf.keras.regularizers.l1_l2(l1=0.005, l2 = 0.001),\\n          bias_regularizer = tf.keras.regularizers.l2(0.001)),\\n    Dense(1, activation = 'sigmoid')\\n])\\n\\nmodel.compile(optimizer='adadelta', loss = 'binary_crossentropy', metrics=['acc'])\\nmodel.fit(inputs, targets, validation_split=0.25)\\n\""
      ]
     },
     "execution_count": 19,
     "metadata": {},
     "output_type": "execute_result"
    }
   ],
   "source": [
    "'''\n",
    "from tensorflow.keras.models import Sequential\n",
    "from tensorflow.keras.layers import Dense\n",
    "\n",
    "model = Sequential([\n",
    "    Dense(64, activation = 'relu',\n",
    "          kernel_regularizer = tf.keras.regularizers.l1_l2(l1=0.005, l2 = 0.001),\n",
    "          bias_regularizer = tf.keras.regularizers.l2(0.001)),\n",
    "    Dense(1, activation = 'sigmoid')\n",
    "])\n",
    "\n",
    "model.compile(optimizer='adadelta', loss = 'binary_crossentropy', metrics=['acc'])\n",
    "model.fit(inputs, targets, validation_split=0.25)\n",
    "'''"
   ]
  },
  {
   "cell_type": "code",
   "execution_count": 20,
   "metadata": {},
   "outputs": [
    {
     "data": {
      "text/plain": [
       "\"\\nfrom tensorflow.keras.models import Sequential\\nfrom tensorflow.keras.layers import Dense\\n\\nmodel = Sequential([\\n    Dense(64, activation = 'relu',\\n          kernel_regularizer = tf.keras.regularizers.l1_l2(l1=0.005, l2 = 0.001),\\n          bias_regularizer = tf.keras.regularizers.l2(0.001)),\\n    Dense(1, activation = 'sigmoid')\\n])\\n\\nmodel.compile(optimizer='adadelta', loss = 'binary_crossentropy', metrics=['acc'])  # Trining mode, with dropout\\nmodel.evaluate(val_inputs, val_targets)                                             # Testing mode, no dropout\\nmodel.fit(inputs, targets, validation_split=0.25)                                   # Testing mode, no dropout\\n\""
      ]
     },
     "execution_count": 20,
     "metadata": {},
     "output_type": "execute_result"
    }
   ],
   "source": [
    "'''\n",
    "from tensorflow.keras.models import Sequential\n",
    "from tensorflow.keras.layers import Dense\n",
    "\n",
    "model = Sequential([\n",
    "    Dense(64, activation = 'relu',\n",
    "          kernel_regularizer = tf.keras.regularizers.l1_l2(l1=0.005, l2 = 0.001),\n",
    "          bias_regularizer = tf.keras.regularizers.l2(0.001)),\n",
    "    Dense(1, activation = 'sigmoid')\n",
    "])\n",
    "\n",
    "model.compile(optimizer='adadelta', loss = 'binary_crossentropy', metrics=['acc'])  # Trining mode, with dropout\n",
    "model.evaluate(val_inputs, val_targets)                                             # Testing mode, no dropout\n",
    "model.fit(inputs, targets, validation_split=0.25)                                   # Testing mode, no dropout\n",
    "'''"
   ]
  },
  {
   "cell_type": "markdown",
   "metadata": {},
   "source": [
    "- Adding regularisation with weight decay and dropout"
   ]
  },
  {
   "cell_type": "code",
   "execution_count": 21,
   "metadata": {},
   "outputs": [],
   "source": [
    "from tensorflow.keras.layers import Dropout\n",
    "from tensorflow.keras import regularizers"
   ]
  },
  {
   "cell_type": "code",
   "execution_count": 22,
   "metadata": {},
   "outputs": [],
   "source": [
    "def get_regularized_model(wd, rate):\n",
    "    model = Sequential([\n",
    "        Dense(128, activation='relu', input_shape=(train_data.shape[1],), kernel_regularizer = regularizers.l2(wd)),\n",
    "        Dropout(rate),\n",
    "        Dense(128, activation = 'relu', kernel_regularizer = regularizers.l2(wd)),\n",
    "        Dropout(rate),\n",
    "        Dense(128, activation = 'relu', kernel_regularizer = regularizers.l2(wd)),\n",
    "        Dropout(rate),\n",
    "        Dense(128, activation = 'relu', kernel_regularizer = regularizers.l2(wd)),\n",
    "        Dropout(rate),\n",
    "        Dense(128, activation = 'relu', kernel_regularizer = regularizers.l2(wd)),\n",
    "        Dropout(rate),\n",
    "        Dense(128, activation = 'relu', kernel_regularizer = regularizers.l2(wd)),\n",
    "        Dropout(rate),\n",
    "        Dense(1)\n",
    "    ])\n",
    "    return model"
   ]
  },
  {
   "cell_type": "code",
   "execution_count": 23,
   "metadata": {},
   "outputs": [],
   "source": [
    "# Re-build the model with weight decay and dropout layers\n",
    "model = get_regularized_model(1e-5, 0.3)"
   ]
  },
  {
   "cell_type": "code",
   "execution_count": 24,
   "metadata": {},
   "outputs": [],
   "source": [
    "# Compile the model\n",
    "model.compile(\n",
    "    optimizer = 'adam',\n",
    "    loss = 'mse',\n",
    "    metrics=['mae']\n",
    ")"
   ]
  },
  {
   "cell_type": "code",
   "execution_count": 25,
   "metadata": {},
   "outputs": [],
   "source": [
    "# Train the model, with some of the data reserved for validation\n",
    "history = model.fit(train_data, train_targets, epochs=100, validation_split=0.15, batch_size=64, verbose=False)"
   ]
  },
  {
   "cell_type": "code",
   "execution_count": 26,
   "metadata": {},
   "outputs": [
    {
     "name": "stdout",
     "output_type": "stream",
     "text": [
      "2/2 - 0s - loss: 0.8060 - mae: 0.7683 - 19ms/epoch - 10ms/step\n"
     ]
    },
    {
     "data": {
      "text/plain": [
       "[0.8060281276702881, 0.7682976722717285]"
      ]
     },
     "execution_count": 26,
     "metadata": {},
     "output_type": "execute_result"
    }
   ],
   "source": [
    "# Evaluate the model on the test set\n",
    "model.evaluate(test_data, test_targets, verbose=2)"
   ]
  },
  {
   "cell_type": "code",
   "execution_count": 27,
   "metadata": {},
   "outputs": [
    {
     "data": {
      "image/png": "[encoded data removed]",
      "text/plain": [
       "<Figure size 640x480 with 1 Axes>"
      ]
     },
     "metadata": {},
     "output_type": "display_data"
    }
   ],
   "source": [
    "# Plot the training and validation loss\n",
    "\n",
    "plt.plot(history.history['loss'])\n",
    "plt.plot(history.history['val_loss'])\n",
    "plt.title('Loss vs epochs')\n",
    "plt.ylabel('Loss')\n",
    "plt.xlabel('Epoch')\n",
    "plt.legend(['Training', 'Validation'], loc = 'upper right')\n",
    "plt.show()"
   ]
  },
  {
   "cell_type": "markdown",
   "metadata": {},
   "source": [
    "#### 1.3.4 Batch Normalisation"
   ]
  },
  {
   "cell_type": "code",
   "execution_count": 28,
   "metadata": {},
   "outputs": [
    {
     "name": "stdout",
     "output_type": "stream",
     "text": [
      "2.13.0\n"
     ]
    }
   ],
   "source": [
    "import tensorflow as tf\n",
    "print(tf.__version__)"
   ]
  },
  {
   "cell_type": "code",
   "execution_count": 29,
   "metadata": {},
   "outputs": [],
   "source": [
    "# Load the dataset\n",
    "\n",
    "from sklearn.datasets import load_diabetes\n",
    "diabetes_dataset = load_diabetes()"
   ]
  },
  {
   "cell_type": "code",
   "execution_count": 30,
   "metadata": {},
   "outputs": [],
   "source": [
    "# Save the input and target variables\n",
    "\n",
    "from sklearn.model_selection import train_test_split\n",
    "\n",
    "data = diabetes_dataset['data']\n",
    "targets = diabetes_dataset['target']"
   ]
  },
  {
   "cell_type": "code",
   "execution_count": 31,
   "metadata": {},
   "outputs": [],
   "source": [
    "# Normalise the target data (this will make clearer training curves)\n",
    "\n",
    "targets = (targets - targets.mean(axis=0)) / targets.std()"
   ]
  },
  {
   "cell_type": "code",
   "execution_count": 32,
   "metadata": {},
   "outputs": [],
   "source": [
    "# Split the dataset into training and test datasets\n",
    "\n",
    "train_data, test_data, train_targets, test_targets = train_test_split(data, targets, test_size=0.1)"
   ]
  },
  {
   "cell_type": "markdown",
   "metadata": {},
   "source": [
    "- Batch Normalization"
   ]
  },
  {
   "cell_type": "code",
   "execution_count": 33,
   "metadata": {},
   "outputs": [],
   "source": [
    "from tensorflow.keras.models import Sequential\n",
    "from tensorflow.keras.layers import Flatten, Dense, Conv2D, MaxPooling2D, BatchNormalization, Dropout"
   ]
  },
  {
   "cell_type": "code",
   "execution_count": 34,
   "metadata": {},
   "outputs": [],
   "source": [
    "model = Sequential([\n",
    "    Dense(64, input_shape = [train_data.shape[1],], activation = 'relu'),\n",
    "    BatchNormalization(),\n",
    "    Dropout(0,5),\n",
    "    BatchNormalization(),\n",
    "    Dropout(0.5),\n",
    "    Dense(256, activation = 'relu')\n",
    "])"
   ]
  },
  {
   "cell_type": "code",
   "execution_count": 35,
   "metadata": {},
   "outputs": [
    {
     "name": "stdout",
     "output_type": "stream",
     "text": [
      "Model: \"sequential_2\"\n",
      "_________________________________________________________________\n",
      " Layer (type)                Output Shape              Param #   \n",
      "=================================================================\n",
      " dense_14 (Dense)            (None, 64)                704       \n",
      "                                                                 \n",
      " batch_normalization (Batch  (None, 64)                256       \n",
      " Normalization)                                                  \n",
      "                                                                 \n",
      " dropout_6 (Dropout)         (None, 64)                0         \n",
      "                                                                 \n",
      " batch_normalization_1 (Bat  (None, 64)                256       \n",
      " chNormalization)                                                \n",
      "                                                                 \n",
      " dropout_7 (Dropout)         (None, 64)                0         \n",
      "                                                                 \n",
      " dense_15 (Dense)            (None, 256)               16640     \n",
      "                                                                 \n",
      "=================================================================\n",
      "Total params: 17856 (69.75 KB)\n",
      "Trainable params: 17600 (68.75 KB)\n",
      "Non-trainable params: 256 (1.00 KB)\n",
      "_________________________________________________________________\n"
     ]
    }
   ],
   "source": [
    "model.summary()"
   ]
  },
  {
   "cell_type": "markdown",
   "metadata": {},
   "source": [
    "Recall that there are some parameters and hyperparameters associated with batch normalisation.\n",
    "\n",
    "1. The hyperparameter **momentum** is the weighting given to the previous running mean when re-computing it with an extra minibatch. By **default**, it is set to 0.99.\n",
    "\n",
    "2. The hyperparameter **$\\epsilon$** is used for numeric stability when performing the normalisation over the minibatch. By **default** it is set to 0.001.\n",
    "\n",
    "3. The parameters **$\\beta$** and **$\\gamma$** are used to implement an affine transformation after normalisation. By **default**, $\\beta$ is an all-zeros vector, and $\\gamma$ is an all-ones vector."
   ]
  },
  {
   "cell_type": "markdown",
   "metadata": {},
   "source": [
    "- Customizing parameters"
   ]
  },
  {
   "cell_type": "code",
   "execution_count": 36,
   "metadata": {},
   "outputs": [],
   "source": [
    "# Add a customized batch normalisation layer\n",
    "\n",
    "model.add(tf.keras.layers.BatchNormalization(\n",
    "    momentum = 0.95,\n",
    "    epsilon = 0.005,    axis = -1,\n",
    "    beta_initializer = tf.keras.initializers.RandomNormal(mean=0.0, stddev=0.05),\n",
    "    gamma_initializer = tf.keras.initializers.Constant(value=0.9)\n",
    "))"
   ]
  },
  {
   "cell_type": "code",
   "execution_count": 37,
   "metadata": {},
   "outputs": [],
   "source": [
    "# Add the output layer\n",
    "model.add(Dense(1))"
   ]
  },
  {
   "cell_type": "markdown",
   "metadata": {},
   "source": [
    "- Compile and fit the model"
   ]
  },
  {
   "cell_type": "code",
   "execution_count": 38,
   "metadata": {},
   "outputs": [],
   "source": [
    "# Compile the model\n",
    "\n",
    "model.compile(\n",
    "    optimizer = 'adam',\n",
    "    loss = 'mse',\n",
    "    metrics=['mae']\n",
    ")"
   ]
  },
  {
   "cell_type": "code",
   "execution_count": 39,
   "metadata": {},
   "outputs": [],
   "source": [
    "# Train the model\n",
    "\n",
    "history = model.fit(train_data, train_targets, epochs=100, validation_split=0.15, batch_size=64, verbose=False)"
   ]
  },
  {
   "cell_type": "code",
   "execution_count": 40,
   "metadata": {},
   "outputs": [
    {
     "data": {
      "text/plain": [
       "<matplotlib.legend.Legend at 0x25c466d8f90>"
      ]
     },
     "execution_count": 40,
     "metadata": {},
     "output_type": "execute_result"
    },
    {
     "data": {
      "image/png": "[encoded data removed]",
      "text/plain": [
       "<Figure size 1200x400 with 2 Axes>"
      ]
     },
     "metadata": {},
     "output_type": "display_data"
    }
   ],
   "source": [
    "# Plot the learning curves \n",
    "import pandas as pd\n",
    "import numpy as np\n",
    "import matplotlib.pyplot as plt\n",
    "%matplotlib inline\n",
    "\n",
    "frame = pd.DataFrame(history.history)\n",
    "epochs = np.arange(len(frame))\n",
    "\n",
    "fig = plt.figure(figsize=(12,4))\n",
    "\n",
    "# Loss plot\n",
    "ax = fig.add_subplot(121)\n",
    "ax.plot(epochs, frame['loss'], label=\"Train\")\n",
    "ax.plot(epochs, frame['val_loss'], label=\"Validation\")\n",
    "ax.set_xlabel(\"Epochs\")\n",
    "ax.set_ylabel(\"Loss\")\n",
    "ax.set_title(\"Loss vs Epochs\")\n",
    "ax.legend()\n",
    "\n",
    "# Accuracy plot\n",
    "ax = fig.add_subplot(122)\n",
    "ax.plot(epochs, frame['mae'], label=\"Train\")\n",
    "ax.plot(epochs, frame['val_mae'], label=\"Validation\")\n",
    "ax.set_xlabel(\"Epochs\")\n",
    "ax.set_ylabel(\"Mean Absolute Error\")\n",
    "ax.set_title(\"Mean Absolute Error vs Epochs\")\n",
    "ax.legend()"
   ]
  },
  {
   "cell_type": "markdown",
   "metadata": {},
   "source": [
    "#### 1.3.5 Callbacks"
   ]
  },
  {
   "cell_type": "code",
   "execution_count": 41,
   "metadata": {},
   "outputs": [
    {
     "data": {
      "text/plain": [
       "'\\nfrom tensorflow.keras.callbacks import Callback\\n\\nclass my_callback(Callback):\\n\\n    def on_train_begin (self, logs = None):\\n        # Do something at the start of training\\n    \\n    def on_train_batch_begin (self, batch, logs=None):\\n        # Do something before processing a batch during training\\n    \\n    def on_epoch_end(self, epoch, logs=None):\\n        # D something at the end of every epoch\\n\\nmodel.fit(X_train, y_train, epochs = 5, callbacks = [my_callback()])\\n'"
      ]
     },
     "execution_count": 41,
     "metadata": {},
     "output_type": "execute_result"
    }
   ],
   "source": [
    "'''\n",
    "from tensorflow.keras.callbacks import Callback\n",
    "\n",
    "class my_callback(Callback):\n",
    "\n",
    "    def on_train_begin (self, logs = None):\n",
    "        # Do something at the start of training\n",
    "    \n",
    "    def on_train_batch_begin (self, batch, logs=None):\n",
    "        # Do something before processing a batch during training\n",
    "    \n",
    "    def on_epoch_end(self, epoch, logs=None):\n",
    "        # D something at the end of every epoch\n",
    "\n",
    "model.fit(X_train, y_train, epochs = 5, callbacks = [my_callback()])\n",
    "'''"
   ]
  },
  {
   "cell_type": "markdown",
   "metadata": {},
   "source": [
    "- Example training callback"
   ]
  },
  {
   "cell_type": "code",
   "execution_count": 42,
   "metadata": {},
   "outputs": [],
   "source": [
    "# Write a custom callback\n",
    "\n",
    "from tensorflow.keras.callbacks import Callback\n",
    "\n",
    "class TrainingCallback(Callback):\n",
    "\n",
    "    def on_train_begin(self, logs = None):\n",
    "        print(\"Training started...\")\n",
    "\n",
    "    def on_epoch_begin(self, epoch, logs = None):\n",
    "        print(f'Starting epoch {epoch}')\n",
    "    \n",
    "    def on_train_batch_begin(self, batch, logs=None):\n",
    "        print(f\"Training: Starting batch {batch}\")\n",
    "\n",
    "    def on_train_batchh_end(self, batch, logs=None):\n",
    "        print(f\"Training: Finished batch {batch}\")\n",
    "\n",
    "    def on_epoch_end(self, epoch, logs=None):\n",
    "        print(f\"Finished epoch {epoch}\")\n",
    "\n",
    "    def on_train_end(self, logs=None):\n",
    "        print(\"Finished Training!\")"
   ]
  },
  {
   "cell_type": "code",
   "execution_count": 43,
   "metadata": {},
   "outputs": [],
   "source": [
    "# Re-build the model\n",
    "\n",
    "model = get_regularized_model(1e-5, 0.3)"
   ]
  },
  {
   "cell_type": "code",
   "execution_count": 44,
   "metadata": {},
   "outputs": [],
   "source": [
    "# Compile the model\n",
    "\n",
    "model.compile(optimizer= 'adam', loss = 'mae')"
   ]
  },
  {
   "cell_type": "markdown",
   "metadata": {},
   "source": [
    "- Training the model with the callback"
   ]
  },
  {
   "cell_type": "code",
   "execution_count": 45,
   "metadata": {},
   "outputs": [
    {
     "name": "stdout",
     "output_type": "stream",
     "text": [
      "Training started...\n",
      "Starting epoch 0\n",
      "Training: Starting batch 0\n",
      "Training: Starting batch 1\n",
      "Training: Starting batch 2\n",
      "Training: Starting batch 3\n",
      "Finished epoch 0\n",
      "Starting epoch 1\n",
      "Training: Starting batch 0\n",
      "Training: Starting batch 1\n",
      "Training: Starting batch 2\n",
      "Training: Starting batch 3\n",
      "Finished epoch 1\n",
      "Starting epoch 2\n",
      "Training: Starting batch 0\n",
      "Training: Starting batch 1\n",
      "Training: Starting batch 2\n",
      "Training: Starting batch 3\n",
      "Finished epoch 2\n",
      "Finished Training!\n"
     ]
    },
    {
     "data": {
      "text/plain": [
       "<keras.src.callbacks.History at 0x25c467a4a10>"
      ]
     },
     "execution_count": 45,
     "metadata": {},
     "output_type": "execute_result"
    }
   ],
   "source": [
    "# Train the model, with some of the data reserved for validation\n",
    "\n",
    "model.fit(train_data, train_targets, epochs=3, batch_size=128, verbose=False, callbacks = [TrainingCallback()])"
   ]
  },
  {
   "cell_type": "code",
   "execution_count": 46,
   "metadata": {},
   "outputs": [],
   "source": [
    "class TestingCallback(Callback):\n",
    "\n",
    "    def on_test_begin(self, logs = None):\n",
    "        print(\"Testing started...\")\n",
    "    \n",
    "    def on_test_batch_begin(self, batch, logs=None):\n",
    "        print(f\"Testing: Starting batch {batch}\")\n",
    "\n",
    "    def on_train_batchh_end(self, batch, logs=None):\n",
    "        print(f\"Training: Finished batch {batch}\")\n",
    "\n",
    "    def on_test_end(self, logs=None):\n",
    "        print(\"Finished Testing!\")"
   ]
  },
  {
   "cell_type": "code",
   "execution_count": 47,
   "metadata": {},
   "outputs": [
    {
     "name": "stdout",
     "output_type": "stream",
     "text": [
      "Testing started...\n",
      "Testing: Starting batch 0\n",
      "Testing: Starting batch 1\n",
      "Finished Testing!\n"
     ]
    },
    {
     "data": {
      "text/plain": [
       "0.7235559821128845"
      ]
     },
     "execution_count": 47,
     "metadata": {},
     "output_type": "execute_result"
    }
   ],
   "source": [
    "# Evaluate the model\n",
    "\n",
    "model.evaluate(test_data, test_targets, verbose=False, callbacks=[TestingCallback()])"
   ]
  },
  {
   "cell_type": "code",
   "execution_count": 48,
   "metadata": {},
   "outputs": [],
   "source": [
    "class PredictionCallback(Callback):\n",
    "\n",
    "    def on_predict_begin(self, logs = None):\n",
    "        print(\"Prediction started...\")\n",
    "    \n",
    "    def on_predict_batch_begin(self, batch, logs=None):\n",
    "        print(f\"Prediction: Starting batch {batch}\")\n",
    "\n",
    "    def on_predict_batchh_end(self, batch, logs=None):\n",
    "        print(f\"Prediction: Finished batch {batch}\")\n",
    "\n",
    "    def on_predict_end(self, logs=None):\n",
    "        print(\"Finished Prediction!\")"
   ]
  },
  {
   "cell_type": "code",
   "execution_count": 49,
   "metadata": {},
   "outputs": [
    {
     "name": "stdout",
     "output_type": "stream",
     "text": [
      "Prediction started..."
     ]
    },
    {
     "name": "stdout",
     "output_type": "stream",
     "text": [
      "\n",
      "Prediction: Starting batch 0\n",
      "Prediction: Starting batch 1\n",
      "Finished Prediction!\n"
     ]
    },
    {
     "data": {
      "text/plain": [
       "array([[-0.12244277],\n",
       "       [-0.11422154],\n",
       "       [-0.11817709],\n",
       "       [-0.11402518],\n",
       "       [-0.11087277],\n",
       "       [-0.12145655],\n",
       "       [-0.1267029 ],\n",
       "       [-0.11236347],\n",
       "       [-0.11094236],\n",
       "       [-0.11507292],\n",
       "       [-0.08119364],\n",
       "       [-0.1183389 ],\n",
       "       [-0.11759699],\n",
       "       [-0.1062831 ],\n",
       "       [-0.06048964],\n",
       "       [-0.10661979],\n",
       "       [-0.12791407],\n",
       "       [-0.12892915],\n",
       "       [-0.10416809],\n",
       "       [-0.11084937],\n",
       "       [-0.12232903],\n",
       "       [-0.10732184],\n",
       "       [-0.08318739],\n",
       "       [-0.11160766],\n",
       "       [-0.08784237],\n",
       "       [-0.12471811],\n",
       "       [-0.1112486 ],\n",
       "       [-0.07751859],\n",
       "       [-0.09205748],\n",
       "       [-0.07290284],\n",
       "       [-0.06420141],\n",
       "       [-0.11289591],\n",
       "       [-0.11687417],\n",
       "       [-0.10179777],\n",
       "       [-0.10913585],\n",
       "       [-0.1156533 ],\n",
       "       [-0.11062194],\n",
       "       [-0.11653925],\n",
       "       [-0.08563821],\n",
       "       [-0.10144573],\n",
       "       [-0.12991656],\n",
       "       [-0.09838912],\n",
       "       [-0.09728765],\n",
       "       [-0.12131277],\n",
       "       [-0.11774327]], dtype=float32)"
      ]
     },
     "execution_count": 49,
     "metadata": {},
     "output_type": "execute_result"
    }
   ],
   "source": [
    "# Make prediction with the model\n",
    "model.predict(test_data, verbose=False, callbacks=[PredictionCallback()])"
   ]
  },
  {
   "cell_type": "markdown",
   "metadata": {},
   "source": [
    "#### 1.3.6 The logs dictionary $\\rarr$ for customizing our callbacks"
   ]
  },
  {
   "cell_type": "code",
   "execution_count": 50,
   "metadata": {},
   "outputs": [],
   "source": [
    "import tensorflow as tf\n",
    "from sklearn.datasets import load_diabetes\n",
    "from sklearn.model_selection import train_test_split\n",
    "\n",
    "diabetes_dataset = load_diabetes()\n",
    "data = diabetes_dataset['data']\n",
    "targets = diabetes_dataset['target']\n",
    "\n",
    "train_data, test_data, train_targets, test_targets = train_test_split(data, targets, test_size=0.1)"
   ]
  },
  {
   "cell_type": "code",
   "execution_count": 51,
   "metadata": {},
   "outputs": [],
   "source": [
    "# Build the model\n",
    "\n",
    "from tensorflow.keras.models import Sequential\n",
    "from tensorflow.keras.layers import Dense\n",
    "\n",
    "model = Sequential([\n",
    "    Dense(128, activation = 'relu', input_shape = (train_data.shape[1],)),\n",
    "    Dense(64,activation='relu'),\n",
    "    tf.keras.layers.BatchNormalization(),\n",
    "    Dense(64, activation='relu'),\n",
    "    Dense(64, activation='relu'),\n",
    "    Dense(1)        \n",
    "])"
   ]
  },
  {
   "cell_type": "code",
   "execution_count": 52,
   "metadata": {},
   "outputs": [],
   "source": [
    "# Compile the model\n",
    "\n",
    "model.compile(loss = 'mse', optimizer= 'adam', metrics=['mae'])"
   ]
  },
  {
   "cell_type": "markdown",
   "metadata": {},
   "source": [
    "- Defining a custom Callback"
   ]
  },
  {
   "cell_type": "code",
   "execution_count": 53,
   "metadata": {},
   "outputs": [],
   "source": [
    "# Create the custom callback\n",
    "from tensorflow.keras.callbacks import Callback\n",
    "\n",
    "class LossAndMetricCallback(Callback):\n",
    "\n",
    "    # Print the loss after every second batch in the training set\n",
    "    def on_train_batch_end(self, batch, logs=None):\n",
    "        if batch %2 ==0:\n",
    "            print('\\n After batch {}, the loss is {:7.2f}.'.format(batch, logs['loss']))\n",
    "    \n",
    "    # Print the loss after each batch in the test set\n",
    "    def on_test_batch_end(self, batch, logs=None):\n",
    "        print('\\n After batch {}, the loss is {:7.2f}.'.format(batch, logs['loss']))\n",
    "\n",
    "    # Print the loss and mean absolute error after each epoch\n",
    "    def on_epoch_end(self, epoch, logs=None):\n",
    "        print('Epoch {}: Average loss is {:7.2f}, mean absolute error is {:7.2f}.'.format(epoch, logs['loss'], logs['mae']))\n",
    "    \n",
    "    # Notify the user when prediction has finished on each batch\n",
    "    def on_predict_batch_end(self,batch, logs=None):\n",
    "        print(\"Finished prediction on batch {}!\".format(batch))"
   ]
  },
  {
   "cell_type": "code",
   "execution_count": 54,
   "metadata": {},
   "outputs": [
    {
     "name": "stdout",
     "output_type": "stream",
     "text": [
      "\n",
      " After batch 0, the loss is 33836.51.\n",
      "\n",
      " After batch 2, the loss is 30703.04.\n",
      "Epoch 0: Average loss is 29180.01, mean absolute error is  152.40.\n",
      "\n",
      " After batch 0, the loss is 28324.70.\n",
      "\n",
      " After batch 2, the loss is 28420.81.\n",
      "Epoch 1: Average loss is 29026.14, mean absolute error is  151.98.\n",
      "\n",
      " After batch 0, the loss is 31514.88.\n",
      "\n",
      " After batch 2, the loss is 30513.66.\n",
      "Epoch 2: Average loss is 28817.62, mean absolute error is  151.39.\n",
      "\n",
      " After batch 0, the loss is 29303.47.\n",
      "\n",
      " After batch 2, the loss is 29462.04.\n",
      "Epoch 3: Average loss is 28515.46, mean absolute error is  150.55.\n",
      "\n",
      " After batch 0, the loss is 31619.40.\n",
      "\n",
      " After batch 2, the loss is 29201.24.\n",
      "Epoch 4: Average loss is 28109.88, mean absolute error is  149.41.\n",
      "\n",
      " After batch 0, the loss is 22173.20.\n",
      "\n",
      " After batch 2, the loss is 28242.79.\n",
      "Epoch 5: Average loss is 27554.32, mean absolute error is  147.86.\n",
      "\n",
      " After batch 0, the loss is 27891.20.\n",
      "\n",
      " After batch 2, the loss is 26956.38.\n",
      "Epoch 6: Average loss is 26806.90, mean absolute error is  145.77.\n",
      "\n",
      " After batch 0, the loss is 29205.65.\n",
      "\n",
      " After batch 2, the loss is 24892.86.\n",
      "Epoch 7: Average loss is 25881.41, mean absolute error is  143.06.\n",
      "\n",
      " After batch 0, the loss is 21172.92.\n",
      "\n",
      " After batch 2, the loss is 25009.26.\n",
      "Epoch 8: Average loss is 24707.05, mean absolute error is  139.62.\n",
      "\n",
      " After batch 0, the loss is 29945.16.\n",
      "\n",
      " After batch 2, the loss is 23695.99.\n",
      "Epoch 9: Average loss is 23346.62, mean absolute error is  135.17.\n",
      "\n",
      " After batch 0, the loss is 20711.19.\n",
      "\n",
      " After batch 2, the loss is 21036.26.\n",
      "Epoch 10: Average loss is 21450.19, mean absolute error is  129.41.\n",
      "\n",
      " After batch 0, the loss is 19484.06.\n",
      "\n",
      " After batch 2, the loss is 19494.30.\n",
      "Epoch 11: Average loss is 19479.33, mean absolute error is  122.25.\n",
      "\n",
      " After batch 0, the loss is 17506.15.\n",
      "\n",
      " After batch 2, the loss is 17536.37.\n",
      "Epoch 12: Average loss is 17187.74, mean absolute error is  113.59.\n",
      "\n",
      " After batch 0, the loss is 17487.96.\n",
      "\n",
      " After batch 2, the loss is 14977.46.\n",
      "Epoch 13: Average loss is 14794.45, mean absolute error is  103.55.\n",
      "\n",
      " After batch 0, the loss is 14736.19.\n",
      "\n",
      " After batch 2, the loss is 12897.50.\n",
      "Epoch 14: Average loss is 12250.73, mean absolute error is   91.84.\n",
      "\n",
      " After batch 0, the loss is 9817.87.\n",
      "\n",
      " After batch 2, the loss is 10190.87.\n",
      "Epoch 15: Average loss is 9939.28, mean absolute error is   80.47.\n",
      "\n",
      " After batch 0, the loss is 10703.60.\n",
      "\n",
      " After batch 2, the loss is 8164.19.\n",
      "Epoch 16: Average loss is 7866.79, mean absolute error is   69.79.\n",
      "\n",
      " After batch 0, the loss is 6621.78.\n",
      "\n",
      " After batch 2, the loss is 6446.21.\n",
      "Epoch 17: Average loss is 6492.75, mean absolute error is   62.11.\n",
      "\n",
      " After batch 0, the loss is 5563.72.\n",
      "\n",
      " After batch 2, the loss is 5236.53.\n",
      "Epoch 18: Average loss is 5611.43, mean absolute error is   58.45.\n",
      "\n",
      " After batch 0, the loss is 5615.94.\n",
      "\n",
      " After batch 2, the loss is 5366.59.\n",
      "Epoch 19: Average loss is 5259.84, mean absolute error is   57.01.\n"
     ]
    }
   ],
   "source": [
    "# Train the model\n",
    "\n",
    "history = model.fit(train_data, train_targets, epochs = 20, batch_size=100, callbacks=[LossAndMetricCallback()], verbose=False)"
   ]
  },
  {
   "cell_type": "code",
   "execution_count": 55,
   "metadata": {},
   "outputs": [
    {
     "name": "stdout",
     "output_type": "stream",
     "text": [
      "\n",
      " After batch 0, the loss is 14796.56.\n",
      "\n",
      " After batch 1, the loss is 11856.92.\n",
      "\n",
      " After batch 2, the loss is 15691.80.\n",
      "\n",
      " After batch 3, the loss is 14827.30.\n",
      "\n",
      " After batch 4, the loss is 16284.87.\n"
     ]
    }
   ],
   "source": [
    "model_eval = model.evaluate(test_data, test_targets, batch_size=10, callbacks=[LossAndMetricCallback()], verbose=False)"
   ]
  },
  {
   "cell_type": "code",
   "execution_count": 56,
   "metadata": {},
   "outputs": [
    {
     "name": "stdout",
     "output_type": "stream",
     "text": [
      "Finished prediction on batch 0!\n",
      "Finished prediction on batch 1!\n",
      "Finished prediction on batch 2!\n",
      "Finished prediction on batch 3!\n",
      "Finished prediction on batch 4!\n"
     ]
    }
   ],
   "source": [
    "model_pred = model.predict(test_data, batch_size=10, callbacks=[LossAndMetricCallback()], verbose = False)"
   ]
  },
  {
   "cell_type": "markdown",
   "metadata": {},
   "source": [
    "- Application : learning rate scheduler"
   ]
  },
  {
   "cell_type": "code",
   "execution_count": 57,
   "metadata": {},
   "outputs": [],
   "source": [
    "# Define the learning rate schedule. The tuples below are (start_epoch, new_learning_rate)\n",
    "\n",
    "lr_schedule = [\n",
    "    (4, 0.03), (7, 0.02), (11, 0.005), (15, 0.007)\n",
    "]\n",
    "\n",
    "def get_new_epoch_lr(epoch, lr):\n",
    "    # Checks to see if the input epoch is listed in the learning rate schedule \n",
    "    # and if so, returns index in lr_schedule\n",
    "    epoch_in_sched = [i for i in range(len(lr_schedule)) if lr_schedule[i][0]==int(epoch)]\n",
    "    if len(epoch_in_sched)>0:\n",
    "        # If it is, return the learning rate corresponding to the epoch\n",
    "        return lr_schedule[epoch_in_sched[0]][1]\n",
    "    else:\n",
    "        # Otherwise, return the existing learning rate\n",
    "        return lr"
   ]
  },
  {
   "cell_type": "code",
   "execution_count": 58,
   "metadata": {},
   "outputs": [],
   "source": [
    "# Define the custom callback\n",
    "\n",
    "class LRScheduler(tf.keras.callbacks.Callback):\n",
    "    \n",
    "    def __init__(self, new_lr):\n",
    "        super(LRScheduler, self).__init__()\n",
    "        # Add the new learning rate function to our callback\n",
    "        self.new_lr = new_lr\n",
    "\n",
    "    def on_epoch_begin(self, epoch, logs=None):\n",
    "        # Make sure that the optimizer we have chosen has a learning rate, and raise an error if not\n",
    "        if not hasattr(self.model.optimizer, 'lr'):\n",
    "              raise ValueError('Error: Optimizer does not have a learning rate.')\n",
    "                \n",
    "        # Get the current learning rate\n",
    "        curr_rate = float(tf.keras.backend.get_value(self.model.optimizer.lr))\n",
    "        \n",
    "        # Call the auxillary function to get the scheduled learning rate for the current epoch\n",
    "        scheduled_rate = self.new_lr(epoch, curr_rate)\n",
    "\n",
    "        # Set the learning rate to the scheduled learning rate\n",
    "        tf.keras.backend.set_value(self.model.optimizer.lr, scheduled_rate)\n",
    "        print('Learning rate for epoch {} is {:7.3f}'.format(epoch, scheduled_rate))"
   ]
  },
  {
   "cell_type": "code",
   "execution_count": 59,
   "metadata": {},
   "outputs": [],
   "source": [
    "# Build the same model as before\n",
    "\n",
    "new_model = tf.keras.Sequential([\n",
    "    Dense(128, activation='relu', input_shape=(train_data.shape[1],)),\n",
    "    Dense(64,activation='relu'),\n",
    "    tf.keras.layers.BatchNormalization(),\n",
    "    Dense(64, activation='relu'),\n",
    "    Dense(64, activation='relu'),\n",
    "    Dense(1)        \n",
    "])"
   ]
  },
  {
   "cell_type": "code",
   "execution_count": 60,
   "metadata": {},
   "outputs": [],
   "source": [
    "# Compile the model\n",
    "\n",
    "new_model.compile(loss='mse',\n",
    "                optimizer=\"adam\",\n",
    "                metrics=['mae', 'mse'])"
   ]
  },
  {
   "cell_type": "code",
   "execution_count": 61,
   "metadata": {},
   "outputs": [
    {
     "name": "stdout",
     "output_type": "stream",
     "text": [
      "Learning rate for epoch 0 is   0.001\n",
      "Learning rate for epoch 1 is   0.001\n",
      "Learning rate for epoch 2 is   0.001\n",
      "Learning rate for epoch 3 is   0.001\n",
      "Learning rate for epoch 4 is   0.030\n",
      "Learning rate for epoch 5 is   0.030\n",
      "Learning rate for epoch 6 is   0.030\n",
      "Learning rate for epoch 7 is   0.020\n",
      "Learning rate for epoch 8 is   0.020\n",
      "Learning rate for epoch 9 is   0.020\n",
      "Learning rate for epoch 10 is   0.020\n",
      "Learning rate for epoch 11 is   0.005\n",
      "Learning rate for epoch 12 is   0.005\n",
      "Learning rate for epoch 13 is   0.005\n",
      "Learning rate for epoch 14 is   0.005\n",
      "Learning rate for epoch 15 is   0.007\n",
      "Learning rate for epoch 16 is   0.007\n",
      "Learning rate for epoch 17 is   0.007\n",
      "Learning rate for epoch 18 is   0.007\n",
      "Learning rate for epoch 19 is   0.007\n"
     ]
    }
   ],
   "source": [
    "# Fit the model with our learning rate scheduler callback\n",
    "\n",
    "new_history = new_model.fit(train_data, train_targets, epochs=20,\n",
    "                            batch_size=100, validation_split=0.15, callbacks=[LRScheduler(get_new_epoch_lr)], verbose=False)"
   ]
  },
  {
   "cell_type": "code",
   "execution_count": 62,
   "metadata": {},
   "outputs": [
    {
     "data": {
      "text/plain": [
       "<matplotlib.legend.Legend at 0x25c3acec350>"
      ]
     },
     "execution_count": 62,
     "metadata": {},
     "output_type": "execute_result"
    },
    {
     "data": {
      "image/png": "[encoded data removed]",
      "text/plain": [
       "<Figure size 1200x400 with 2 Axes>"
      ]
     },
     "metadata": {},
     "output_type": "display_data"
    }
   ],
   "source": [
    "# Plot the learning curves \n",
    "import pandas as pd\n",
    "import numpy as np\n",
    "import matplotlib.pyplot as plt\n",
    "%matplotlib inline\n",
    "\n",
    "frame = pd.DataFrame(new_history.history)\n",
    "epochs = np.arange(len(frame))\n",
    "\n",
    "fig = plt.figure(figsize=(12,4))\n",
    "\n",
    "# Loss plot\n",
    "ax = fig.add_subplot(121)\n",
    "ax.plot(epochs, frame['loss'], label=\"Train\")\n",
    "ax.plot(epochs, frame['val_loss'], label=\"Validation\")\n",
    "ax.set_xlabel(\"Epochs\")\n",
    "ax.set_ylabel(\"Loss\")\n",
    "ax.set_title(\"Loss vs Epochs\")\n",
    "ax.legend()\n",
    "\n",
    "# Accuracy plot\n",
    "ax = fig.add_subplot(122)\n",
    "ax.plot(epochs, frame['mae'], label=\"Train\")\n",
    "ax.plot(epochs, frame['val_mae'], label=\"Validation\")\n",
    "ax.set_xlabel(\"Epochs\")\n",
    "ax.set_ylabel(\"Mean Absolute Error\")\n",
    "ax.set_title(\"Mean Absolute Error vs Epochs\")\n",
    "ax.legend()"
   ]
  },
  {
   "cell_type": "markdown",
   "metadata": {},
   "source": [
    "#### 1.3.7 Early stopping and patience"
   ]
  },
  {
   "cell_type": "code",
   "execution_count": 63,
   "metadata": {},
   "outputs": [
    {
     "data": {
      "text/plain": [
       "\"\\nfrom tensorflow.keras.models import Sequential\\nfrom tensorflow.keras.layers import Conv1D, Flatten, Dense, MaxPooling1D\\nfrom tensorflow.keras.callbacks import EarlyStopping\\n\\nmodel = Sequential([\\n    Conv1D(16, 5, activation = 'relu', input_shape = (128, 1)),\\n    MaxPooling1D(4),\\n    Flatten(),\\n    Dense(10, activation = 'softmax')\\n])\\nmodel.compile(optimizer='adam', loss = 'categorical_crossentropy', metrics = ['accuracy'])\\n\\nearly_stopping = EarlyStopping(monitor = 'var_accuracy', patience = 5, min_delta = 0.01, mode = 'max')\\n\\nmodel.fit(X_train, y_train, validation_split = 0.2, epochs = 10, callbacks=[early_stopping])\\n\""
      ]
     },
     "execution_count": 63,
     "metadata": {},
     "output_type": "execute_result"
    }
   ],
   "source": [
    "'''\n",
    "from tensorflow.keras.models import Sequential\n",
    "from tensorflow.keras.layers import Conv1D, Flatten, Dense, MaxPooling1D\n",
    "from tensorflow.keras.callbacks import EarlyStopping\n",
    "\n",
    "model = Sequential([\n",
    "    Conv1D(16, 5, activation = 'relu', input_shape = (128, 1)),\n",
    "    MaxPooling1D(4),\n",
    "    Flatten(),\n",
    "    Dense(10, activation = 'softmax')\n",
    "])\n",
    "model.compile(optimizer='adam', loss = 'categorical_crossentropy', metrics = ['accuracy'])\n",
    "\n",
    "early_stopping = EarlyStopping(monitor = 'var_accuracy', patience = 5, min_delta = 0.01, mode = 'max')\n",
    "\n",
    "model.fit(X_train, y_train, validation_split = 0.2, epochs = 10, callbacks=[early_stopping])\n",
    "'''"
   ]
  },
  {
   "cell_type": "markdown",
   "metadata": {},
   "source": [
    "- Re-train the models with early stopping"
   ]
  },
  {
   "cell_type": "code",
   "execution_count": 64,
   "metadata": {},
   "outputs": [],
   "source": [
    "# re-train the unregularized model\n",
    "\n",
    "unregularized_model = get_model()\n",
    "unregularized_model.compile(\n",
    "    optimizer = 'adam',\n",
    "    loss = 'mae'\n",
    ")\n",
    "unreg_history = unregularized_model.fit(train_data, train_targets, epochs = 100, validation_split = 0.15, batch_size = 64, verbose = False,\n",
    "                                        callbacks = [tf.keras.callbacks.EarlyStopping()])"
   ]
  },
  {
   "cell_type": "code",
   "execution_count": 65,
   "metadata": {},
   "outputs": [
    {
     "name": "stdout",
     "output_type": "stream",
     "text": [
      "2/2 - 0s - loss: 44.5137 - 34ms/epoch - 17ms/step\n"
     ]
    },
    {
     "data": {
      "text/plain": [
       "44.513668060302734"
      ]
     },
     "execution_count": 65,
     "metadata": {},
     "output_type": "execute_result"
    }
   ],
   "source": [
    "# Evaluate the model on the test set\n",
    "\n",
    "unregularized_model.evaluate(test_data, test_targets, verbose=2)"
   ]
  },
  {
   "cell_type": "code",
   "execution_count": 66,
   "metadata": {},
   "outputs": [],
   "source": [
    "# Re-train the regularized model\n",
    "\n",
    "regularized_model = get_regularized_model(1e-8, 0.2)\n",
    "regularized_model.compile(optimizer = 'adam', loss = 'mae')\n",
    "reg_history = regularized_model.fit(train_data, train_targets, epochs=10, validation_split = 0.15, batch_size = 64, verbose = False,\n",
    "                                    callbacks = [tf.keras.callbacks.EarlyStopping()])"
   ]
  },
  {
   "cell_type": "code",
   "execution_count": 67,
   "metadata": {},
   "outputs": [
    {
     "name": "stdout",
     "output_type": "stream",
     "text": [
      "2/2 - 0s - loss: 55.7139 - 20ms/epoch - 10ms/step\n"
     ]
    },
    {
     "data": {
      "text/plain": [
       "55.71390914916992"
      ]
     },
     "execution_count": 67,
     "metadata": {},
     "output_type": "execute_result"
    }
   ],
   "source": [
    "# Evaluate the model on the test set\n",
    "\n",
    "regularized_model.evaluate(test_data, test_targets, verbose=2)"
   ]
  },
  {
   "cell_type": "markdown",
   "metadata": {},
   "source": [
    "- Plot the learning curves"
   ]
  },
  {
   "cell_type": "code",
   "execution_count": 68,
   "metadata": {},
   "outputs": [
    {
     "data": {
      "image/png": "[encoded data removed]",
      "text/plain": [
       "<Figure size 1200x500 with 2 Axes>"
      ]
     },
     "metadata": {},
     "output_type": "display_data"
    }
   ],
   "source": [
    "# Plot the training and validation loss\n",
    "\n",
    "import matplotlib.pyplot as plt\n",
    "\n",
    "fig = plt.figure(figsize=(12,5))\n",
    "\n",
    "fig.add_subplot((121))\n",
    "\n",
    "plt.plot(unreg_history.history['loss'])\n",
    "plt.plot(unreg_history.history['val_loss'])\n",
    "plt.title(\"Unregularized model : loss vs epochs\")\n",
    "plt.xlabel(\"Epoch\")\n",
    "plt.ylabel(\"Loss\")\n",
    "plt.legend(['train', 'validation'], loc='upper right')\n",
    "\n",
    "fig.add_subplot((122))\n",
    "\n",
    "plt.plot(reg_history.history['loss'])\n",
    "plt.plot(reg_history.history['val_loss'])\n",
    "plt.title(\"regularized model : loss vs epochs\")\n",
    "plt.xlabel(\"Epoch\")\n",
    "plt.ylabel(\"Loss\")\n",
    "plt.legend(['train', 'validation'], loc='upper right')\n",
    "\n",
    "plt.show()"
   ]
  },
  {
   "cell_type": "markdown",
   "metadata": {},
   "source": [
    "#### 1.3.8 Additional Callbacks"
   ]
  },
  {
   "cell_type": "code",
   "execution_count": 1,
   "metadata": {},
   "outputs": [],
   "source": [
    "import tensorflow as tf\n",
    "from sklearn.datasets import load_diabetes\n",
    "from sklearn.model_selection import train_test_split\n",
    "\n",
    "diabetes_dataset = load_diabetes()\n",
    "data = diabetes_dataset['data']\n",
    "targets = diabetes_dataset['target']\n",
    "train_data, test_data, train_targets, test_targets = train_test_split(data, targets, test_size=0.1)"
   ]
  },
  {
   "cell_type": "code",
   "execution_count": 3,
   "metadata": {},
   "outputs": [],
   "source": [
    "from tensorflow.keras.models import Sequential\n",
    "from tensorflow.keras.layers import Dense\n",
    "\n",
    "model = Sequential([\n",
    "    Dense(128, activation = 'relu', input_shape = (train_data.shape[1],)),\n",
    "    Dense(64, activation = 'relu'),\n",
    "    Dense(64, activation = 'relu'),\n",
    "    Dense(64, activation = 'relu'),\n",
    "    Dense(1)\n",
    "])\n",
    "\n",
    "model.compile(\n",
    "    loss = 'mse',\n",
    "    optimizer = 'adam',\n",
    "    metrics = [\"mse\", \"mae\"]\n",
    ")"
   ]
  },
  {
   "cell_type": "markdown",
   "metadata": {},
   "source": [
    "- Learning rate scheduler"
   ]
  },
  {
   "cell_type": "markdown",
   "metadata": {},
   "source": [
    "**Usage:** `tf.keras.callbacks.LearningRateScheduler(schedule, verbose=0)`\n",
    "\n",
    "The learning rate scheduler that we implemented in the previous reading as a custom callback is also available as a built in callback. \n",
    "\n",
    "As in our custom callback, the `LearningRateScheduler` in Keras takes a function `schedule` as an argument. \n",
    "\n",
    "This function `schedule` should take two arguments:\n",
    "* The current epoch (as an integer), and\n",
    "* The current learning rate,\n",
    "\n",
    "and return new learning rate for that epoch. \n",
    "\n",
    "The `LearningRateScheduler` also has an optional `verbose` argument, which prints information about the learning rate if it is set to 1."
   ]
  },
  {
   "cell_type": "code",
   "execution_count": 4,
   "metadata": {},
   "outputs": [],
   "source": [
    "# Define the learning rate schedule function\n",
    "\n",
    "def lr_function(epoch, lr):\n",
    "    if epoch % 2 ==0:\n",
    "        return lr\n",
    "    else:\n",
    "        return lr + epoch/1000"
   ]
  },
  {
   "cell_type": "code",
   "execution_count": 6,
   "metadata": {},
   "outputs": [
    {
     "name": "stdout",
     "output_type": "stream",
     "text": [
      "\n",
      "Epoch 1: LearningRateScheduler setting learning rate to 0.0010000000474974513.\n",
      "\n",
      "Epoch 2: LearningRateScheduler setting learning rate to 0.0020000000474974513.\n",
      "\n",
      "Epoch 3: LearningRateScheduler setting learning rate to 0.0020000000949949026.\n",
      "\n",
      "Epoch 4: LearningRateScheduler setting learning rate to 0.005000000094994903.\n",
      "\n",
      "Epoch 5: LearningRateScheduler setting learning rate to 0.004999999888241291.\n",
      "\n",
      "Epoch 6: LearningRateScheduler setting learning rate to 0.009999999888241292.\n",
      "\n",
      "Epoch 7: LearningRateScheduler setting learning rate to 0.009999999776482582.\n",
      "\n",
      "Epoch 8: LearningRateScheduler setting learning rate to 0.01699999977648258.\n",
      "\n",
      "Epoch 9: LearningRateScheduler setting learning rate to 0.016999999061226845.\n",
      "\n",
      "Epoch 10: LearningRateScheduler setting learning rate to 0.025999999061226846.\n"
     ]
    }
   ],
   "source": [
    "# Train the model\n",
    "\n",
    "history = model.fit(train_data, train_targets, epochs = 10,\n",
    "                    callbacks = [tf.keras.callbacks.LearningRateScheduler(lr_function, verbose = 1)], verbose = False)"
   ]
  },
  {
   "cell_type": "code",
   "execution_count": 7,
   "metadata": {},
   "outputs": [
    {
     "name": "stdout",
     "output_type": "stream",
     "text": [
      "\n",
      "Epoch 1: LearningRateScheduler setting learning rate to 0.3333333333333333.\n",
      "\n",
      "Epoch 2: LearningRateScheduler setting learning rate to 0.125.\n",
      "\n",
      "Epoch 3: LearningRateScheduler setting learning rate to 0.07692307692307693.\n",
      "\n",
      "Epoch 4: LearningRateScheduler setting learning rate to 0.05555555555555555.\n",
      "\n",
      "Epoch 5: LearningRateScheduler setting learning rate to 0.043478260869565216.\n",
      "\n",
      "Epoch 6: LearningRateScheduler setting learning rate to 0.03571428571428571.\n",
      "\n",
      "Epoch 7: LearningRateScheduler setting learning rate to 0.030303030303030304.\n",
      "\n",
      "Epoch 8: LearningRateScheduler setting learning rate to 0.02631578947368421.\n",
      "\n",
      "Epoch 9: LearningRateScheduler setting learning rate to 0.023255813953488372.\n",
      "\n",
      "Epoch 10: LearningRateScheduler setting learning rate to 0.020833333333333332.\n"
     ]
    }
   ],
   "source": [
    "# Train the model with a difference schedule\n",
    "\n",
    "history = model.fit(train_data, train_targets, epochs = 10,\n",
    "                    callbacks = [tf.keras.callbacks.LearningRateScheduler(lambda x : 1/(3+5*x), verbose = 1)], verbose = False)"
   ]
  },
  {
   "cell_type": "markdown",
   "metadata": {},
   "source": [
    "- CSV logger"
   ]
  },
  {
   "cell_type": "markdown",
   "metadata": {},
   "source": [
    "**Usage** `tf.keras.callbacks.CSVLogger(filename, separator=',', append=False)`\n",
    "\n",
    "This callback streams the results from each epoch into a CSV file.\n",
    "The first line of the CSV file will be the names of pieces of information recorded on each subsequent line, beginning with the epoch and loss value. The values of metrics at the end of each epoch will also be recorded.\n",
    "\n",
    "The only compulsory argument is the `filename` for the log to be streamed to. This could also be a filepath.\n",
    "\n",
    "You can also specify the `separator` to be used between entries on each line.\n",
    "\n",
    "The `append` argument allows you the option to append your results to an existing file with the same name. This can be particularly useful if you are continuing training."
   ]
  },
  {
   "cell_type": "code",
   "execution_count": 8,
   "metadata": {},
   "outputs": [],
   "source": [
    "# Train the model with a CSV Logger\n",
    "\n",
    "history = model.fit(train_data, train_targets, epochs = 10,\n",
    "                    callbacks = [tf.keras.callbacks.CSVLogger(\"results.csv\")], verbose = False)"
   ]
  },
  {
   "cell_type": "code",
   "execution_count": 9,
   "metadata": {},
   "outputs": [
    {
     "data": {
      "text/html": [
       "<div>\n",
       "<style scoped>\n",
       "    .dataframe tbody tr th:only-of-type {\n",
       "        vertical-align: middle;\n",
       "    }\n",
       "\n",
       "    .dataframe tbody tr th {\n",
       "        vertical-align: top;\n",
       "    }\n",
       "\n",
       "    .dataframe thead th {\n",
       "        text-align: right;\n",
       "    }\n",
       "</style>\n",
       "<table border=\"1\" class=\"dataframe\">\n",
       "  <thead>\n",
       "    <tr style=\"text-align: right;\">\n",
       "      <th></th>\n",
       "      <th>epoch</th>\n",
       "      <th>loss</th>\n",
       "      <th>mae</th>\n",
       "      <th>mse</th>\n",
       "      <th>val_loss</th>\n",
       "      <th>val_mae</th>\n",
       "      <th>val_mse</th>\n",
       "    </tr>\n",
       "  </thead>\n",
       "  <tbody>\n",
       "    <tr>\n",
       "      <th>0</th>\n",
       "      <td>0</td>\n",
       "      <td>5968.128906</td>\n",
       "      <td>65.814125</td>\n",
       "      <td>5968.128906</td>\n",
       "      <td>NaN</td>\n",
       "      <td>NaN</td>\n",
       "      <td>NaN</td>\n",
       "    </tr>\n",
       "    <tr>\n",
       "      <th>1</th>\n",
       "      <td>1</td>\n",
       "      <td>5964.072266</td>\n",
       "      <td>65.702110</td>\n",
       "      <td>5964.072266</td>\n",
       "      <td>NaN</td>\n",
       "      <td>NaN</td>\n",
       "      <td>NaN</td>\n",
       "    </tr>\n",
       "    <tr>\n",
       "      <th>2</th>\n",
       "      <td>2</td>\n",
       "      <td>5962.426758</td>\n",
       "      <td>65.884499</td>\n",
       "      <td>5962.426758</td>\n",
       "      <td>NaN</td>\n",
       "      <td>NaN</td>\n",
       "      <td>NaN</td>\n",
       "    </tr>\n",
       "    <tr>\n",
       "      <th>3</th>\n",
       "      <td>3</td>\n",
       "      <td>5962.438477</td>\n",
       "      <td>65.724869</td>\n",
       "      <td>5962.438477</td>\n",
       "      <td>NaN</td>\n",
       "      <td>NaN</td>\n",
       "      <td>NaN</td>\n",
       "    </tr>\n",
       "    <tr>\n",
       "      <th>4</th>\n",
       "      <td>4</td>\n",
       "      <td>5954.372559</td>\n",
       "      <td>65.557510</td>\n",
       "      <td>5954.372559</td>\n",
       "      <td>NaN</td>\n",
       "      <td>NaN</td>\n",
       "      <td>NaN</td>\n",
       "    </tr>\n",
       "    <tr>\n",
       "      <th>5</th>\n",
       "      <td>5</td>\n",
       "      <td>5957.441406</td>\n",
       "      <td>65.873222</td>\n",
       "      <td>5957.441406</td>\n",
       "      <td>NaN</td>\n",
       "      <td>NaN</td>\n",
       "      <td>NaN</td>\n",
       "    </tr>\n",
       "    <tr>\n",
       "      <th>6</th>\n",
       "      <td>6</td>\n",
       "      <td>6001.872559</td>\n",
       "      <td>66.401062</td>\n",
       "      <td>6001.872559</td>\n",
       "      <td>NaN</td>\n",
       "      <td>NaN</td>\n",
       "      <td>NaN</td>\n",
       "    </tr>\n",
       "    <tr>\n",
       "      <th>7</th>\n",
       "      <td>7</td>\n",
       "      <td>5956.847656</td>\n",
       "      <td>65.704994</td>\n",
       "      <td>5956.847656</td>\n",
       "      <td>NaN</td>\n",
       "      <td>NaN</td>\n",
       "      <td>NaN</td>\n",
       "    </tr>\n",
       "    <tr>\n",
       "      <th>8</th>\n",
       "      <td>8</td>\n",
       "      <td>5957.097656</td>\n",
       "      <td>65.538666</td>\n",
       "      <td>5957.097656</td>\n",
       "      <td>NaN</td>\n",
       "      <td>NaN</td>\n",
       "      <td>NaN</td>\n",
       "    </tr>\n",
       "    <tr>\n",
       "      <th>9</th>\n",
       "      <td>9</td>\n",
       "      <td>5958.293457</td>\n",
       "      <td>65.788902</td>\n",
       "      <td>5958.293457</td>\n",
       "      <td>NaN</td>\n",
       "      <td>NaN</td>\n",
       "      <td>NaN</td>\n",
       "    </tr>\n",
       "  </tbody>\n",
       "</table>\n",
       "</div>"
      ],
      "text/plain": [
       "   epoch         loss        mae          mse  val_loss  val_mae  val_mse\n",
       "0      0  5968.128906  65.814125  5968.128906       NaN      NaN      NaN\n",
       "1      1  5964.072266  65.702110  5964.072266       NaN      NaN      NaN\n",
       "2      2  5962.426758  65.884499  5962.426758       NaN      NaN      NaN\n",
       "3      3  5962.438477  65.724869  5962.438477       NaN      NaN      NaN\n",
       "4      4  5954.372559  65.557510  5954.372559       NaN      NaN      NaN\n",
       "5      5  5957.441406  65.873222  5957.441406       NaN      NaN      NaN\n",
       "6      6  6001.872559  66.401062  6001.872559       NaN      NaN      NaN\n",
       "7      7  5956.847656  65.704994  5956.847656       NaN      NaN      NaN\n",
       "8      8  5957.097656  65.538666  5957.097656       NaN      NaN      NaN\n",
       "9      9  5958.293457  65.788902  5958.293457       NaN      NaN      NaN"
      ]
     },
     "execution_count": 9,
     "metadata": {},
     "output_type": "execute_result"
    }
   ],
   "source": [
    "# Load the CSV\n",
    "\n",
    "import pandas as pd\n",
    "\n",
    "pd.read_csv(\"results.csv\")"
   ]
  },
  {
   "cell_type": "markdown",
   "metadata": {},
   "source": [
    "- Lambda Callbacks"
   ]
  },
  {
   "cell_type": "markdown",
   "metadata": {},
   "source": [
    "**Usage** `tf.keras.callbacks.LambdaCallback(\n",
    "        on_epoch_begin=None, on_epoch_end=None, \n",
    "        on_batch_begin=None, on_batch_end=None, \n",
    "        on_train_begin=None, on_train_end=None)`\n",
    "\n",
    "Lambda callbacks are used to quickly define simple custom callbacks with the use of lambda functions.\n",
    "\n",
    "Each of the functions require some positional arguments.\n",
    "* `on_epoch_begin` and `on_epoch_end` expect two arguments: `epoch` and `logs`,\n",
    "* `on_batch_begin` and `on_batch_end` expect two arguments: `batch` and `logs` and\n",
    "* `on_train_begin` and `on_train_end` expect one argument: `logs`.\n"
   ]
  },
  {
   "cell_type": "code",
   "execution_count": 10,
   "metadata": {},
   "outputs": [
    {
     "name": "stdout",
     "output_type": "stream",
     "text": [
      "Starting Epoch 1!\n",
      "\n",
      " After batch 0, the loss is 5100.27.\n",
      "\n",
      " After batch 1, the loss is 5900.43.\n",
      "\n",
      " After batch 2, the loss is 5931.14.\n",
      "\n",
      " After batch 3, the loss is 5956.23.\n",
      "Training finished!\n"
     ]
    }
   ],
   "source": [
    "# Print the epoch number at the beginning of each epoch\n",
    "\n",
    "epoch_callback = tf.keras.callbacks.LambdaCallback(\n",
    "    on_epoch_begin=lambda epoch,logs: print('Starting Epoch {}!'.format(epoch+1))\n",
    ")\n",
    "batch_loss_callback = tf.keras.callbacks.LambdaCallback(\n",
    "    on_batch_end=lambda batch, logs : print('\\n After batch {}, the loss is {:7.2f}.'.format(batch, logs['loss']))\n",
    ")\n",
    "train_finish_callback = tf.keras.callbacks.LambdaCallback(\n",
    "    on_train_end = lambda logs : print('Training finished!')\n",
    ")\n",
    "history = model.fit(train_data, train_targets, batch_size=100,\n",
    "                    callbacks = [epoch_callback, batch_loss_callback, train_finish_callback], verbose = False)"
   ]
  },
  {
   "cell_type": "markdown",
   "metadata": {},
   "source": [
    "- Reduce learning rate on plateau"
   ]
  },
  {
   "cell_type": "markdown",
   "metadata": {},
   "source": [
    "**Usage** `tf.keras.callbacks.ReduceLROnPlateau(\n",
    "            monitor='val_loss', \n",
    "            factor=0.1, \n",
    "            patience=10, \n",
    "            verbose=0, \n",
    "            mode='auto', \n",
    "            min_delta=0.0001, \n",
    "            cooldown=0, \n",
    "            min_lr=0)`\n",
    "\n",
    "The `ReduceLROnPlateau` callback allows reduction of the learning rate when a metric has stopped improving. \n",
    "The arguments are similar to those used in the `EarlyStopping` callback.\n",
    "1. The argument `monitor` is used to specify which metric to base the callback on.\n",
    "2. The `factor` is the factor by which the learning rate decreases i.e., new_lr=factor*old_lr.\n",
    "3. The `patience` is the number of epochs where there is no improvement on the monitored metric before the learning rate is reduced.\n",
    "4. The `verbose` argument will produce progress messages when set to 1.\n",
    "5. The `mode` determines whether the learning rate will decrease when the monitored quantity stops increasing (`max`) or decreasing (`min`). The `auto` setting causes the callback to infer the mode from the monitored quantity.\n",
    "6. The `min_delta` is the smallest change in the monitored quantity to be deemed an improvement.\n",
    "7. The `cooldown` is the number of epochs to wait after the learning rate is changed before the callback resumes normal operation.\n",
    "8. The `min_lr` is a lower bound on the learning rate that the callback will produce."
   ]
  },
  {
   "cell_type": "code",
   "execution_count": 11,
   "metadata": {},
   "outputs": [
    {
     "name": "stdout",
     "output_type": "stream",
     "text": [
      "\n",
      "Epoch 31: ReduceLROnPlateau reducing learning rate to 0.00416666679084301.\n",
      "\n",
      "Epoch 41: ReduceLROnPlateau reducing learning rate to 0.0008333333767950535.\n",
      "\n",
      "Epoch 55: ReduceLROnPlateau reducing learning rate to 0.00016666667070239783.\n",
      "\n",
      "Epoch 65: ReduceLROnPlateau reducing learning rate to 3.333333297632635e-05.\n",
      "\n",
      "Epoch 75: ReduceLROnPlateau reducing learning rate to 6.666666740784422e-06.\n",
      "\n",
      "Epoch 85: ReduceLROnPlateau reducing learning rate to 1.3333333299669903e-06.\n",
      "\n",
      "Epoch 95: ReduceLROnPlateau reducing learning rate to 2.666666659933981e-07.\n"
     ]
    }
   ],
   "source": [
    "# Train the model with the ReduceLROnPlateau callback\n",
    "\n",
    "history = model.fit(train_data, train_targets, epochs=100, batch_size=100,\n",
    "                    callbacks=[tf.keras.callbacks.ReduceLROnPlateau(\n",
    "                        monitor=\"loss\",factor=0.2, verbose=1)], verbose=False)"
   ]
  }
 ],
 "metadata": {
  "kernelspec": {
   "display_name": "TF2env",
   "language": "python",
   "name": "python3"
  },
  "language_info": {
   "codemirror_mode": {
    "name": "ipython",
    "version": 3
   },
   "file_extension": ".py",
   "mimetype": "text/x-python",
   "name": "python",
   "nbconvert_exporter": "python",
   "pygments_lexer": "ipython3",
   "version": "3.11.1"
  },
  "orig_nbformat": 4
 },
 "nbformat": 4,
 "nbformat_minor": 2
}
