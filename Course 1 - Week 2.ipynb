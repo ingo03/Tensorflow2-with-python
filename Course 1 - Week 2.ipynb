{
 "cells": [
  {
   "cell_type": "markdown",
   "metadata": {},
   "source": [
    "## Course 1 Getting Started with TensorFlow 2 - Week 2 The Sequential model API"
   ]
  },
  {
   "cell_type": "markdown",
   "metadata": {},
   "source": [
    "***"
   ]
  },
  {
   "cell_type": "markdown",
   "metadata": {},
   "source": [
    "#### 1.2.1 Building a Sequential model"
   ]
  },
  {
   "cell_type": "code",
   "execution_count": 2,
   "metadata": {},
   "outputs": [
    {
     "name": "stdout",
     "output_type": "stream",
     "text": [
      "2.13.0\n"
     ]
    }
   ],
   "source": [
    "import tensorflow as tf\n",
    "print(tf.__version__)"
   ]
  },
  {
   "cell_type": "code",
   "execution_count": 3,
   "metadata": {},
   "outputs": [],
   "source": [
    "from tensorflow.keras.models import Sequential\n",
    "from tensorflow.keras.layers import Flatten, Dense\n",
    "\n",
    "model_3 = Sequential([\n",
    "    Dense(64, activation = 'relu'),\n",
    "    Dense(10, activation = 'softmax')\n",
    "])"
   ]
  },
  {
   "cell_type": "code",
   "execution_count": 4,
   "metadata": {},
   "outputs": [],
   "source": [
    "model_1 = Sequential()\n",
    "\n",
    "model_1.add(Dense(64, activation = 'relu', input_shape = (784,)))\n",
    "model_1.add(Dense(10, activation = 'softmax'))"
   ]
  },
  {
   "cell_type": "code",
   "execution_count": 5,
   "metadata": {},
   "outputs": [],
   "source": [
    "model_2 = Sequential([\n",
    "    Flatten(input_shape = (28,28)),\n",
    "    Dense(64, activation = 'relu'),\n",
    "    Dense(10, activation = 'softmax')\n",
    "])"
   ]
  },
  {
   "cell_type": "code",
   "execution_count": 6,
   "metadata": {},
   "outputs": [],
   "source": [
    "model = Sequential([\n",
    "    Flatten(input_shape = (28,28)),\n",
    "    Dense(16, activation = 'relu', name = 'layer_1'),\n",
    "    Dense(16, activation = 'relu'),\n",
    "    Dense(10, activation = 'softmax'),\n",
    "    Dense(10)\n",
    "])"
   ]
  },
  {
   "cell_type": "code",
   "execution_count": 7,
   "metadata": {},
   "outputs": [
    {
     "data": {
      "text/plain": [
       "[<tf.Variable 'layer_1/kernel:0' shape=(784, 16) dtype=float32, numpy=\n",
       " array([[ 0.07574405,  0.05176668,  0.04812749, ..., -0.06584985,\n",
       "         -0.03705401, -0.03054915],\n",
       "        [ 0.02103951, -0.04319884,  0.05296966, ...,  0.06847328,\n",
       "          0.07280208, -0.06837223],\n",
       "        [-0.08498602, -0.06570499,  0.02721868, ..., -0.00036848,\n",
       "         -0.01698101,  0.03531135],\n",
       "        ...,\n",
       "        [ 0.01515877, -0.02828254, -0.01398193, ..., -0.01410104,\n",
       "          0.07221629, -0.08473665],\n",
       "        [ 0.03371055, -0.01354447, -0.07174093, ...,  0.0799344 ,\n",
       "          0.05936669,  0.03859511],\n",
       "        [-0.07326455, -0.01904777,  0.0218707 , ..., -0.00943953,\n",
       "         -0.08186925,  0.07920626]], dtype=float32)>,\n",
       " <tf.Variable 'layer_1/bias:0' shape=(16,) dtype=float32, numpy=\n",
       " array([0., 0., 0., 0., 0., 0., 0., 0., 0., 0., 0., 0., 0., 0., 0., 0.],\n",
       "       dtype=float32)>,\n",
       " <tf.Variable 'dense_6/kernel:0' shape=(16, 16) dtype=float32, numpy=\n",
       " array([[ 0.21949688,  0.19930127,  0.35923162,  0.33142832, -0.33062375,\n",
       "         -0.29385927,  0.0474478 , -0.28221142,  0.3175989 , -0.04858258,\n",
       "          0.4016032 ,  0.41937324, -0.29294002, -0.02442163, -0.35786557,\n",
       "         -0.31937945],\n",
       "        [-0.34558558,  0.14496347, -0.28496283,  0.00991574, -0.27053618,\n",
       "          0.0140118 , -0.37139472,  0.2763038 ,  0.1799281 , -0.09465834,\n",
       "         -0.03676334,  0.21934304,  0.09539023, -0.17804927,  0.320156  ,\n",
       "          0.01010475],\n",
       "        [ 0.0295825 ,  0.06644517,  0.2566574 ,  0.19763574, -0.06304276,\n",
       "          0.06865653,  0.2718338 ,  0.30461255,  0.23758873, -0.1916507 ,\n",
       "          0.4295955 ,  0.35345778, -0.16675055, -0.2523455 , -0.00057185,\n",
       "         -0.4243191 ],\n",
       "        [-0.02045998,  0.01669455,  0.18700919,  0.03797784,  0.41393456,\n",
       "         -0.40008587,  0.15901658,  0.38408437,  0.12844196, -0.30991706,\n",
       "         -0.12121969, -0.3777346 , -0.36778656, -0.20026892,  0.38894442,\n",
       "         -0.41179785],\n",
       "        [ 0.421896  ,  0.26101115,  0.09607437, -0.09274483, -0.10208994,\n",
       "          0.41978857, -0.08767036, -0.40601414,  0.32002357,  0.03957319,\n",
       "         -0.04596448, -0.2855205 , -0.30401307, -0.1471549 ,  0.3961211 ,\n",
       "          0.31964067],\n",
       "        [-0.01261219,  0.07437029, -0.26172614, -0.1273503 , -0.40750417,\n",
       "         -0.15947628,  0.35168305,  0.07330236,  0.27222195, -0.37467822,\n",
       "         -0.3676442 , -0.25096458,  0.09367231, -0.0990881 ,  0.19034854,\n",
       "         -0.0901396 ],\n",
       "        [-0.05174911, -0.42338666, -0.15620136,  0.29650083,  0.11461905,\n",
       "         -0.05143559, -0.19366436, -0.26559603,  0.2552717 ,  0.15572432,\n",
       "          0.16660872, -0.31311435, -0.06436804,  0.07939258,  0.1684579 ,\n",
       "          0.27151427],\n",
       "        [ 0.4215416 ,  0.33627215, -0.07689404,  0.389331  , -0.28707457,\n",
       "         -0.30649078, -0.13011286,  0.31166944,  0.3459725 , -0.4148795 ,\n",
       "         -0.30916464,  0.08991793,  0.27562925, -0.39851883, -0.35197425,\n",
       "          0.04361135],\n",
       "        [ 0.31091568, -0.4044219 ,  0.2872295 , -0.3661843 , -0.09966323,\n",
       "         -0.18479589,  0.06903151,  0.41576883,  0.08053318, -0.1888229 ,\n",
       "         -0.03951424, -0.31950015,  0.3878822 , -0.07522881, -0.26390553,\n",
       "          0.02495188],\n",
       "        [ 0.2502574 , -0.07823458,  0.18957755,  0.38302037, -0.36554205,\n",
       "          0.02968058, -0.27445358,  0.34088996,  0.03823626,  0.36858293,\n",
       "         -0.14350471,  0.01752129,  0.11874798,  0.23255864,  0.25906387,\n",
       "          0.41760138],\n",
       "        [ 0.1270481 , -0.3760287 , -0.38995573,  0.0144192 , -0.05190954,\n",
       "          0.23916438,  0.4121336 , -0.31759045, -0.43103412, -0.27363366,\n",
       "          0.00207344, -0.19469954, -0.17041913, -0.34934613, -0.01887402,\n",
       "         -0.22676441],\n",
       "        [ 0.21847007,  0.07242659, -0.15475625,  0.35461912,  0.32028684,\n",
       "         -0.21032165,  0.35507444,  0.01054424, -0.22243842, -0.04738554,\n",
       "         -0.04912603, -0.29156148,  0.08153191, -0.06409588,  0.1804311 ,\n",
       "         -0.3172225 ],\n",
       "        [ 0.24088773,  0.3773996 , -0.35909885,  0.00774059, -0.21342397,\n",
       "         -0.13560781,  0.10448685, -0.36538428,  0.0719929 ,  0.0776746 ,\n",
       "          0.11705866, -0.02511004, -0.27564228, -0.26461878, -0.14127672,\n",
       "         -0.00388125],\n",
       "        [ 0.00989136,  0.03129306, -0.06872013, -0.2921803 , -0.2584275 ,\n",
       "         -0.08867249, -0.06616005,  0.04364192, -0.08472642, -0.04736045,\n",
       "          0.40189824, -0.09395406, -0.37195036,  0.415813  , -0.2607587 ,\n",
       "         -0.03897431],\n",
       "        [ 0.38210043,  0.20439413,  0.12121639, -0.256662  , -0.06074622,\n",
       "         -0.3163047 , -0.16696128, -0.23002797, -0.2171618 , -0.43267912,\n",
       "          0.18700972,  0.267881  , -0.05323586, -0.15685952, -0.34615564,\n",
       "         -0.06545749],\n",
       "        [ 0.2345396 ,  0.1350179 ,  0.30248103,  0.00496173, -0.39031303,\n",
       "          0.06238285,  0.33108154,  0.17753038, -0.40083435,  0.13448891,\n",
       "         -0.31070673,  0.37950316,  0.06525248, -0.2590617 , -0.2173366 ,\n",
       "         -0.06812444]], dtype=float32)>,\n",
       " <tf.Variable 'dense_6/bias:0' shape=(16,) dtype=float32, numpy=\n",
       " array([0., 0., 0., 0., 0., 0., 0., 0., 0., 0., 0., 0., 0., 0., 0., 0.],\n",
       "       dtype=float32)>,\n",
       " <tf.Variable 'dense_7/kernel:0' shape=(16, 10) dtype=float32, numpy=\n",
       " array([[ 0.43893248, -0.34069127,  0.11341876,  0.36243093, -0.08818573,\n",
       "          0.3795873 ,  0.3399815 ,  0.22745872,  0.01695105, -0.02956247],\n",
       "        [ 0.20894891, -0.07626048,  0.14713567, -0.02052963, -0.47791848,\n",
       "         -0.2547553 ,  0.00909984,  0.29492515, -0.24583136,  0.35869908],\n",
       "        [ 0.1372633 , -0.32589775, -0.46697968,  0.34163624,  0.21402395,\n",
       "          0.44560742,  0.00596738,  0.11117321, -0.34606054, -0.04732829],\n",
       "        [-0.04765975,  0.42423397,  0.3260557 , -0.34933215, -0.03629756,\n",
       "          0.01591578,  0.23664367, -0.42077875,  0.3772692 ,  0.4415381 ],\n",
       "        [-0.2746307 , -0.15746695, -0.39184335,  0.3675906 ,  0.23860759,\n",
       "         -0.14986038, -0.20072913,  0.330383  , -0.22786611,  0.35795635],\n",
       "        [-0.07353461,  0.24635601,  0.18765634, -0.08232534, -0.08059955,\n",
       "          0.20705736,  0.07745093, -0.32755584, -0.4104968 ,  0.03715217],\n",
       "        [ 0.22796452, -0.42027286, -0.30967754,  0.32747388,  0.1197601 ,\n",
       "         -0.19639349, -0.02521515,  0.2341047 , -0.42257565,  0.21629214],\n",
       "        [ 0.39906073,  0.08164662,  0.23105079,  0.372302  ,  0.11998373,\n",
       "         -0.3382721 , -0.4588055 , -0.31476945,  0.24996185,  0.3204813 ],\n",
       "        [-0.15093309, -0.31426173,  0.4452896 , -0.31186512,  0.3104856 ,\n",
       "         -0.30757725, -0.3208778 ,  0.14124203,  0.28061652, -0.16888034],\n",
       "        [-0.16583917, -0.12158459,  0.2700193 , -0.16946378,  0.11537784,\n",
       "         -0.10503095, -0.03959975, -0.37790036,  0.20184761, -0.01702929],\n",
       "        [-0.3642859 ,  0.13760883, -0.36349446,  0.2255984 , -0.30220464,\n",
       "         -0.26760906, -0.36254007, -0.30871558, -0.38334742,  0.33752537],\n",
       "        [-0.43859473,  0.4173023 , -0.13172004,  0.42449623,  0.04123473,\n",
       "         -0.07019243,  0.18849933, -0.40683737,  0.26396447, -0.27914122],\n",
       "        [-0.12751383, -0.3323495 , -0.15357056,  0.24184346, -0.4039933 ,\n",
       "          0.11927891, -0.18429929,  0.25444275,  0.46463245, -0.46084073],\n",
       "        [-0.27998853, -0.01516411,  0.2533887 , -0.21227652, -0.4729104 ,\n",
       "          0.40549046, -0.0602273 ,  0.40752757, -0.46659005,  0.3510812 ],\n",
       "        [ 0.0490219 , -0.03708324, -0.10622209,  0.27060658,  0.28407425,\n",
       "         -0.44596535, -0.2546767 , -0.14050445, -0.39756423, -0.09278753],\n",
       "        [-0.314956  ,  0.00661322,  0.12149984,  0.36740893,  0.22649026,\n",
       "          0.2988035 , -0.36852658,  0.32381868, -0.14820734,  0.25484997]],\n",
       "       dtype=float32)>,\n",
       " <tf.Variable 'dense_7/bias:0' shape=(10,) dtype=float32, numpy=array([0., 0., 0., 0., 0., 0., 0., 0., 0., 0.], dtype=float32)>,\n",
       " <tf.Variable 'dense_8/kernel:0' shape=(10, 10) dtype=float32, numpy=\n",
       " array([[ 0.0548622 ,  0.46154583, -0.4810318 , -0.38526696, -0.2751306 ,\n",
       "         -0.36307472, -0.48805127,  0.0654164 , -0.47988015,  0.13521695],\n",
       "        [-0.4631872 ,  0.04532903,  0.25970143, -0.22210264,  0.2219286 ,\n",
       "         -0.32351696, -0.3879773 ,  0.1913653 , -0.48444092,  0.50324416],\n",
       "        [-0.0713889 ,  0.00077152, -0.38066113,  0.4640721 ,  0.35381478,\n",
       "          0.41990042,  0.22872448,  0.25548267, -0.30791426,  0.02465761],\n",
       "        [-0.19860831, -0.40203267,  0.5199106 , -0.0564748 , -0.15675274,\n",
       "         -0.11601931, -0.01088029, -0.0819841 , -0.2590446 , -0.47585467],\n",
       "        [-0.15920138, -0.5077331 , -0.1931073 , -0.2867308 ,  0.10169727,\n",
       "          0.12574482, -0.03891695,  0.35154897,  0.3564543 ,  0.34158224],\n",
       "        [ 0.17820692, -0.41584486,  0.26004034,  0.16973048, -0.06575537,\n",
       "         -0.1362704 ,  0.20691288,  0.40927112, -0.40391833, -0.40428764],\n",
       "        [-0.29432744, -0.44331548,  0.399405  , -0.52392346, -0.17071825,\n",
       "          0.44918025,  0.01985133,  0.32150084, -0.12793761,  0.3026914 ],\n",
       "        [-0.2020255 , -0.3581013 ,  0.03272516,  0.08080596, -0.4742145 ,\n",
       "          0.2396456 , -0.47138807, -0.11386815, -0.09904572, -0.13572964],\n",
       "        [-0.07918066, -0.54752564,  0.47680795,  0.43726826, -0.08755392,\n",
       "         -0.25257832, -0.34907758, -0.14898762, -0.24484351,  0.006778  ],\n",
       "        [-0.43309623, -0.1745309 , -0.33106476, -0.30339086,  0.32055587,\n",
       "         -0.28186667, -0.4859351 , -0.3878168 , -0.04656452, -0.14530036]],\n",
       "       dtype=float32)>,\n",
       " <tf.Variable 'dense_8/bias:0' shape=(10,) dtype=float32, numpy=array([0., 0., 0., 0., 0., 0., 0., 0., 0., 0.], dtype=float32)>]"
      ]
     },
     "execution_count": 7,
     "metadata": {},
     "output_type": "execute_result"
    }
   ],
   "source": [
    "model.weights"
   ]
  },
  {
   "cell_type": "code",
   "execution_count": 8,
   "metadata": {},
   "outputs": [
    {
     "name": "stdout",
     "output_type": "stream",
     "text": [
      "Model: \"sequential_3\"\n",
      "_________________________________________________________________\n",
      " Layer (type)                Output Shape              Param #   \n",
      "=================================================================\n",
      " flatten_1 (Flatten)         (None, 784)               0         \n",
      "                                                                 \n",
      " layer_1 (Dense)             (None, 16)                12560     \n",
      "                                                                 \n",
      " dense_6 (Dense)             (None, 16)                272       \n",
      "                                                                 \n",
      " dense_7 (Dense)             (None, 10)                170       \n",
      "                                                                 \n",
      " dense_8 (Dense)             (None, 10)                110       \n",
      "                                                                 \n",
      "=================================================================\n",
      "Total params: 13112 (51.22 KB)\n",
      "Trainable params: 13112 (51.22 KB)\n",
      "Non-trainable params: 0 (0.00 Byte)\n",
      "_________________________________________________________________\n"
     ]
    }
   ],
   "source": [
    "model.summary()"
   ]
  },
  {
   "cell_type": "markdown",
   "metadata": {},
   "source": [
    "#### 1.2.2 Convolutional neural networks"
   ]
  },
  {
   "cell_type": "code",
   "execution_count": 9,
   "metadata": {},
   "outputs": [],
   "source": [
    "from tensorflow.keras.layers import Conv2D, MaxPooling2D"
   ]
  },
  {
   "cell_type": "code",
   "execution_count": 10,
   "metadata": {},
   "outputs": [],
   "source": [
    "model = Sequential([\n",
    "    Conv2D(16, kernel_size = 3, padding = 'SAME', activation = 'relu', input_shape = (32, 32, 3)),      # (None, 30, 30, 16)\n",
    "    MaxPooling2D(pool_size=3),\n",
    "    Flatten(),\n",
    "    Dense(64, activation = 'relu'),\n",
    "    Dense(16, activation = 'softmax')\n",
    "])"
   ]
  },
  {
   "cell_type": "code",
   "execution_count": 11,
   "metadata": {},
   "outputs": [],
   "source": [
    "model_2 = Sequential([\n",
    "    Conv2D(16, (3,3), activation = 'relu', input_shape = (28, 28, 1), data_format = 'channels_last'),\n",
    "    MaxPooling2D(pool_size=3),\n",
    "    Flatten(),\n",
    "    Dense(10, activation = 'softmax')\n",
    "])"
   ]
  },
  {
   "cell_type": "code",
   "execution_count": 12,
   "metadata": {},
   "outputs": [
    {
     "name": "stdout",
     "output_type": "stream",
     "text": [
      "Model: \"sequential_4\"\n",
      "_________________________________________________________________\n",
      " Layer (type)                Output Shape              Param #   \n",
      "=================================================================\n",
      " conv2d (Conv2D)             (None, 32, 32, 16)        448       \n",
      "                                                                 \n",
      " max_pooling2d (MaxPooling2  (None, 10, 10, 16)        0         \n",
      " D)                                                              \n",
      "                                                                 \n",
      " flatten_2 (Flatten)         (None, 1600)              0         \n",
      "                                                                 \n",
      " dense_9 (Dense)             (None, 64)                102464    \n",
      "                                                                 \n",
      " dense_10 (Dense)            (None, 16)                1040      \n",
      "                                                                 \n",
      "=================================================================\n",
      "Total params: 103952 (406.06 KB)\n",
      "Trainable params: 103952 (406.06 KB)\n",
      "Non-trainable params: 0 (0.00 Byte)\n",
      "_________________________________________________________________\n"
     ]
    }
   ],
   "source": [
    "model.summary()"
   ]
  },
  {
   "cell_type": "code",
   "execution_count": 13,
   "metadata": {},
   "outputs": [
    {
     "name": "stdout",
     "output_type": "stream",
     "text": [
      "Model: \"sequential_5\"\n",
      "_________________________________________________________________\n",
      " Layer (type)                Output Shape              Param #   \n",
      "=================================================================\n",
      " conv2d_1 (Conv2D)           (None, 26, 26, 16)        160       \n",
      "                                                                 \n",
      " max_pooling2d_1 (MaxPoolin  (None, 8, 8, 16)          0         \n",
      " g2D)                                                            \n",
      "                                                                 \n",
      " flatten_3 (Flatten)         (None, 1024)              0         \n",
      "                                                                 \n",
      " dense_11 (Dense)            (None, 10)                10250     \n",
      "                                                                 \n",
      "=================================================================\n",
      "Total params: 10410 (40.66 KB)\n",
      "Trainable params: 10410 (40.66 KB)\n",
      "Non-trainable params: 0 (0.00 Byte)\n",
      "_________________________________________________________________\n"
     ]
    }
   ],
   "source": [
    "model_2.summary()"
   ]
  },
  {
   "cell_type": "markdown",
   "metadata": {},
   "source": [
    "#### 1.2.3 Weight Initialization"
   ]
  },
  {
   "cell_type": "markdown",
   "metadata": {},
   "source": [
    "Default Weights and biases\n",
    "In a Dense Layer, the biases are set to zero by default, while the weight are set according to `glorot_uniform`, the Glorot uniform initializer.\n",
    "The Gloroto uniform initialiser draws the weights uniformly at random from the closed interval [-c, c], where  \n",
    "$$ c = \\sqrt{ \\frac{6}{(n_{input} + n_{output})}}"
   ]
  },
  {
   "cell_type": "code",
   "execution_count": 14,
   "metadata": {},
   "outputs": [],
   "source": [
    "from tensorflow.keras.models import Sequential\n",
    "from tensorflow.keras.layers import Flatten, Dense, Conv1D, MaxPooling1D \n",
    "import tensorflow as tf"
   ]
  },
  {
   "cell_type": "code",
   "execution_count": 15,
   "metadata": {},
   "outputs": [],
   "source": [
    "model = Sequential([\n",
    "    Conv1D(filters=16, kernel_size=3, input_shape=(128, 64), kernel_initializer='random_uniform', bias_initializer=\"zeros\", activation='relu'),\n",
    "    MaxPooling1D(pool_size=4),\n",
    "    Flatten(),\n",
    "    Dense(64, kernel_initializer='he_uniform', bias_initializer='ones', activation='relu'),\n",
    "])\n",
    "model.add(Dense(64, \n",
    "                kernel_initializer=tf.keras.initializers.RandomNormal(mean=0.0, stddev=0.05), \n",
    "                bias_initializer=tf.keras.initializers.Constant(value=0.4), \n",
    "                activation='relu'),)\n",
    "\n",
    "model.add(Dense(8, \n",
    "                kernel_initializer=tf.keras.initializers.Orthogonal(gain=1.0, seed=None), \n",
    "                bias_initializer=tf.keras.initializers.Constant(value=0.4), \n",
    "                activation='relu'))"
   ]
  },
  {
   "cell_type": "code",
   "execution_count": 16,
   "metadata": {},
   "outputs": [
    {
     "name": "stdout",
     "output_type": "stream",
     "text": [
      "Model: \"sequential_6\"\n",
      "_________________________________________________________________\n",
      " Layer (type)                Output Shape              Param #   \n",
      "=================================================================\n",
      " conv1d (Conv1D)             (None, 126, 16)           3088      \n",
      "                                                                 \n",
      " max_pooling1d (MaxPooling1  (None, 31, 16)            0         \n",
      " D)                                                              \n",
      "                                                                 \n",
      " flatten_4 (Flatten)         (None, 496)               0         \n",
      "                                                                 \n",
      " dense_12 (Dense)            (None, 64)                31808     \n",
      "                                                                 \n",
      " dense_13 (Dense)            (None, 64)                4160      \n",
      "                                                                 \n",
      " dense_14 (Dense)            (None, 8)                 520       \n",
      "                                                                 \n",
      "=================================================================\n",
      "Total params: 39576 (154.59 KB)\n",
      "Trainable params: 39576 (154.59 KB)\n",
      "Non-trainable params: 0 (0.00 Byte)\n",
      "_________________________________________________________________\n"
     ]
    }
   ],
   "source": [
    "model.summary()"
   ]
  },
  {
   "cell_type": "markdown",
   "metadata": {},
   "source": [
    "- Custom weight and bias initialisers"
   ]
  },
  {
   "cell_type": "code",
   "execution_count": 17,
   "metadata": {},
   "outputs": [],
   "source": [
    "import tensorflow.keras.backend as K"
   ]
  },
  {
   "cell_type": "code",
   "execution_count": 18,
   "metadata": {},
   "outputs": [],
   "source": [
    "def my_init(shape, dtype=None):\n",
    "    return K.random_normal(shape, dtype=dtype)\n",
    "\n",
    "model.add(Dense(64, kernel_initializer=my_init))"
   ]
  },
  {
   "cell_type": "code",
   "execution_count": 19,
   "metadata": {},
   "outputs": [
    {
     "name": "stdout",
     "output_type": "stream",
     "text": [
      "Model: \"sequential_6\"\n",
      "_________________________________________________________________\n",
      " Layer (type)                Output Shape              Param #   \n",
      "=================================================================\n",
      " conv1d (Conv1D)             (None, 126, 16)           3088      \n",
      "                                                                 \n",
      " max_pooling1d (MaxPooling1  (None, 31, 16)            0         \n",
      " D)                                                              \n",
      "                                                                 \n",
      " flatten_4 (Flatten)         (None, 496)               0         \n",
      "                                                                 \n",
      " dense_12 (Dense)            (None, 64)                31808     \n",
      "                                                                 \n",
      " dense_13 (Dense)            (None, 64)                4160      \n",
      "                                                                 \n",
      " dense_14 (Dense)            (None, 8)                 520       \n",
      "                                                                 \n",
      " dense_15 (Dense)            (None, 64)                576       \n",
      "                                                                 \n",
      "=================================================================\n",
      "Total params: 40152 (156.84 KB)\n",
      "Trainable params: 40152 (156.84 KB)\n",
      "Non-trainable params: 0 (0.00 Byte)\n",
      "_________________________________________________________________\n"
     ]
    }
   ],
   "source": [
    "model.summary()"
   ]
  },
  {
   "cell_type": "markdown",
   "metadata": {},
   "source": [
    "- Visualising the initialised weights and biases"
   ]
  },
  {
   "cell_type": "code",
   "execution_count": 20,
   "metadata": {},
   "outputs": [],
   "source": [
    "import matplotlib.pyplot as plt"
   ]
  },
  {
   "cell_type": "code",
   "execution_count": 21,
   "metadata": {},
   "outputs": [
    {
     "data": {
      "image/png": "[encoded data removed]",
      "text/plain": [
       "<Figure size 1200x1600 with 10 Axes>"
      ]
     },
     "metadata": {},
     "output_type": "display_data"
    }
   ],
   "source": [
    "# Plot histograms of weight and bias values\n",
    "\n",
    "fig, axes = plt.subplots(5, 2, figsize=(12,16))\n",
    "fig.subplots_adjust(hspace=0.5, wspace=0.5)\n",
    "\n",
    "# Filter out the pooling and flatten layers, that don't have any weights\n",
    "weight_layers = [layer for layer in model.layers if len(layer.weights) > 0]\n",
    "\n",
    "for i, layer in enumerate(weight_layers):\n",
    "    for j in [0, 1]:\n",
    "        axes[i, j].hist(layer.weights[j].numpy().flatten(), align='left')\n",
    "        axes[i, j].set_title(layer.weights[j].name)"
   ]
  },
  {
   "cell_type": "markdown",
   "metadata": {},
   "source": [
    "#### 1.2.4 Compiling your model"
   ]
  },
  {
   "cell_type": "markdown",
   "metadata": {},
   "source": [
    "- The compile method"
   ]
  },
  {
   "cell_type": "code",
   "execution_count": 22,
   "metadata": {},
   "outputs": [],
   "source": [
    "import tensorflow as tf\n",
    "from tensorflow.keras.models import Sequential\n",
    "from tensorflow.keras.layers import Dense"
   ]
  },
  {
   "cell_type": "code",
   "execution_count": 23,
   "metadata": {},
   "outputs": [],
   "source": [
    "model = Sequential([\n",
    "    Dense(64, activation='elu', input_shape=(32,)),\n",
    "    Dense(1, activation = 'sigmoid')\n",
    "])"
   ]
  },
  {
   "cell_type": "code",
   "execution_count": 24,
   "metadata": {},
   "outputs": [],
   "source": [
    "model.compile(\n",
    "    optimizer= tf.keras.optimizers.SGD(learning_rate=0.001, momentum= 0.9, nesterov = True),\n",
    "    loss = tf.keras.losses.BinaryCrossentropy(from_logits=True),\n",
    "    metrics= [tf.keras.metrics.BinaryAccuracy(threshold=0.7), tf.keras.metrics.MeanAbsoluteError()]\n",
    ")"
   ]
  },
  {
   "cell_type": "markdown",
   "metadata": {},
   "source": [
    "- The Compile Method (Practice)"
   ]
  },
  {
   "cell_type": "code",
   "execution_count": 25,
   "metadata": {},
   "outputs": [],
   "source": [
    "model.compile(\n",
    "    optimizer = 'adam',\n",
    "    loss = 'categorical_crossentropy',\n",
    "    metrics=['accuracy', 'mae']\n",
    ")"
   ]
  },
  {
   "cell_type": "code",
   "execution_count": 26,
   "metadata": {},
   "outputs": [
    {
     "name": "stdout",
     "output_type": "stream",
     "text": [
      "categorical_crossentropy\n",
      "<keras.src.optimizers.adam.Adam object at 0x0000025F1CD3D950>\n",
      "[]\n",
      "<tf.Variable 'learning_rate:0' shape=() dtype=float32, numpy=0.001>\n"
     ]
    }
   ],
   "source": [
    "print(model.loss)\n",
    "print(model.optimizer)\n",
    "print(model.metrics)\n",
    "print(model.optimizer.lr)"
   ]
  },
  {
   "cell_type": "code",
   "execution_count": 27,
   "metadata": {},
   "outputs": [],
   "source": [
    "opt = tf.keras.optimizers.Adam(learning_rate=0.005)\n",
    "acc = tf.keras.metrics.SparseCategoricalAccuracy()\n",
    "mae = tf.keras.metrics.MeanAbsoluteError()\n",
    "\n",
    "model.compile(\n",
    "    optimizer = opt,\n",
    "    loss ='sparse_categorical_crossentropy',\n",
    "    metrics = [acc, mae]\n",
    ")"
   ]
  },
  {
   "cell_type": "code",
   "execution_count": 28,
   "metadata": {},
   "outputs": [
    {
     "name": "stdout",
     "output_type": "stream",
     "text": [
      "<keras.src.optimizers.adam.Adam object at 0x0000025F1CD89ED0>\n",
      "sparse_categorical_crossentropy\n",
      "[]\n",
      "<tf.Variable 'learning_rate:0' shape=() dtype=float32, numpy=0.005>\n"
     ]
    }
   ],
   "source": [
    "print(model.optimizer)\n",
    "print(model.loss)\n",
    "print(model.metrics)\n",
    "print(model.optimizer.lr)"
   ]
  },
  {
   "cell_type": "markdown",
   "metadata": {},
   "source": [
    "#### 1.2.6 Optimizers, loss functions, and metrics"
   ]
  },
  {
   "cell_type": "markdown",
   "metadata": {},
   "source": [
    "- Metrics in Keras"
   ]
  },
  {
   "cell_type": "code",
   "execution_count": 29,
   "metadata": {},
   "outputs": [
    {
     "name": "stdout",
     "output_type": "stream",
     "text": [
      "2.13.0\n"
     ]
    }
   ],
   "source": [
    "import tensorflow as tf\n",
    "from tensorflow.keras.models import Sequential\n",
    "from tensorflow.keras.layers import Dense, Flatten\n",
    "import tensorflow.keras.backend as K\n",
    "print(tf.__version__)"
   ]
  },
  {
   "cell_type": "code",
   "execution_count": 30,
   "metadata": {},
   "outputs": [],
   "source": [
    "model = Sequential([\n",
    "    Flatten(input_shape=(28,28)),\n",
    "    Dense(32, activation = 'relu'),\n",
    "    Dense(32, activation = 'tanh'),\n",
    "    Dense(10, activation = 'softmax')\n",
    "])"
   ]
  },
  {
   "cell_type": "code",
   "execution_count": 31,
   "metadata": {},
   "outputs": [],
   "source": [
    "model.compile(\n",
    "    optimizer = 'adam',\n",
    "    loss = 'sparse_categorical_crossentropy',\n",
    "    metrics=['accuracy']\n",
    ")"
   ]
  },
  {
   "cell_type": "markdown",
   "metadata": {},
   "source": [
    "    - Case 1 : Binary Classification with sigmoid activation function"
   ]
  },
  {
   "cell_type": "code",
   "execution_count": 32,
   "metadata": {},
   "outputs": [
    {
     "data": {
      "text/plain": [
       "<tf.Tensor: shape=(), dtype=float32, numpy=0.6666667>"
      ]
     },
     "execution_count": 32,
     "metadata": {},
     "output_type": "execute_result"
    }
   ],
   "source": [
    "y_true = tf.constant([0.0,1.0,1.0])\n",
    "y_pred = tf.constant([0.4,0.8, 0.3])\n",
    "accuracy = K.mean(K.equal(y_true, K.round(y_pred)))\n",
    "accuracy"
   ]
  },
  {
   "cell_type": "markdown",
   "metadata": {},
   "source": [
    "    - Case 2 :Categorical Classification"
   ]
  },
  {
   "cell_type": "markdown",
   "metadata": {},
   "source": [
    "Now suppose we are training a model for a classification problem which should sort data into  𝑚>2\n",
    "  different classes using a softmax activation function in the last layer.\n",
    "\n",
    "Given a training example with input  𝑥(𝑖)\n",
    " , the model will output a tensor of probabilities  𝑝1,𝑝2,…𝑝𝑚\n",
    " , giving the likelihood (according to the model) that  𝑥(𝑖)\n",
    "  falls into each class.\n",
    "\n",
    "The accuracy metric works by determining the largest argument in the  𝑦(𝑖)𝑝𝑟𝑒𝑑\n",
    "  tensor, and compares its index to the index of the maximum value of  𝑦(𝑖)𝑡𝑟𝑢𝑒\n",
    "  to determine  𝛿(𝑦(𝑖)𝑝𝑟𝑒𝑑,𝑦(𝑖)𝑡𝑟𝑢𝑒)\n",
    " . It then computes the accuracy in the same way as for the binary classification case.\n",
    "\n",
    "$$ accuracy = \\frac{1}{N} \\sum_{i=1}^N \\delta(y_{pred}^{(i)},y_{true}^{(i)}) $$\n",
    " \n",
    "In the backend of Keras, the accuracy metric is implemented slightly differently depending on whether we have a binary classification problem ( 𝑚=2\n",
    " ) or a categorical classifcation problem. Note that the accuracy for binary classification problems is the same, no matter if we use a sigmoid or softmax activation function to obtain the output."
   ]
  },
  {
   "cell_type": "code",
   "execution_count": 33,
   "metadata": {},
   "outputs": [
    {
     "data": {
      "text/plain": [
       "<tf.Tensor: shape=(), dtype=float32, numpy=0.5>"
      ]
     },
     "execution_count": 33,
     "metadata": {},
     "output_type": "execute_result"
    }
   ],
   "source": [
    "y_true = tf.constant([[0.0,1.0],[1.0,0.0],[1.0,0.0],[0.0,1.0]])\n",
    "y_pred = tf.constant([[0.4,0.6], [0.3,0.7], [0.05,0.95],[0.33,0.67]])\n",
    "accuracy =K.mean(K.equal(y_true, K.round(y_pred)))\n",
    "accuracy"
   ]
  },
  {
   "cell_type": "code",
   "execution_count": 34,
   "metadata": {},
   "outputs": [
    {
     "data": {
      "text/plain": [
       "<tf.Tensor: shape=(), dtype=float32, numpy=0.6666667>"
      ]
     },
     "execution_count": 34,
     "metadata": {},
     "output_type": "execute_result"
    }
   ],
   "source": [
    "y_true = tf.constant([[0.0,1.0,0.0,0.0],[1.0,0.0,0.0,0.0],[0.0,0.0,1.0,0.0]])\n",
    "y_pred = tf.constant([[0.4,0.6,0.0,0.0], [0.3,0.2,0.1,0.4], [0.05,0.35,0.5,0.1]])\n",
    "accuracy = K.mean(K.equal(K.argmax(y_true, axis=-1), K.argmax(y_pred, axis=-1)))\n",
    "accuracy"
   ]
  },
  {
   "cell_type": "markdown",
   "metadata": {},
   "source": [
    "- Other examples of metrics"
   ]
  },
  {
   "cell_type": "markdown",
   "metadata": {},
   "source": [
    "    - Binary accuracy and categorical accuracy"
   ]
  },
  {
   "cell_type": "markdown",
   "metadata": {},
   "source": [
    "The `binary_accuracy` and `categorical_accuracy` metrics are, by default, identical to the Case 1 and 2 respectively of the `accuracy` metric explained above. \n",
    "\n",
    "However, using `binary_accuracy` allows you to use the optional `threshold` argument, which sets the minimum value of $y_{pred}$ which will be rounded to 1. As mentioned above, it is set as `threshold=0.5` by default.\n",
    "\n",
    "Below we give some examples of how to compile a model with `binary_accuracy` with and without a threshold."
   ]
  },
  {
   "cell_type": "code",
   "execution_count": 35,
   "metadata": {},
   "outputs": [],
   "source": [
    "model.compile(\n",
    "    optimizer = 'adam',\n",
    "    loss = 'sparse_categorical_crossentropy',\n",
    "    metrics = ['binary_accuracy'] # metrics = [tf.keras.metrics.BinaryAccuracy(threshold = 0.5)]\n",
    ")"
   ]
  },
  {
   "cell_type": "markdown",
   "metadata": {},
   "source": [
    "    - Sparse categorical accuracy"
   ]
  },
  {
   "cell_type": "code",
   "execution_count": 36,
   "metadata": {},
   "outputs": [],
   "source": [
    "model.compile(optimizer='adam',\n",
    "              loss='sparse_categorical_crossentropy',\n",
    "              metrics=[\"sparse_categorical_accuracy\"])\n",
    "\n",
    "model.compile(optimizer='adam',\n",
    "              loss='sparse_categorical_crossentropy',\n",
    "              metrics=[tf.keras.metrics.SparseCategoricalAccuracy()])"
   ]
  },
  {
   "cell_type": "markdown",
   "metadata": {},
   "source": [
    "    - (Sparse) Top k-categorical accuracy"
   ]
  },
  {
   "cell_type": "code",
   "execution_count": 37,
   "metadata": {},
   "outputs": [],
   "source": [
    "model.compile(\n",
    "    optimizer='adam',\n",
    "    loss='sparse_categorical_crossentropy',\n",
    "    metrics=[\"top_k_categorical_accuracy\"] # metrics = [tf.keras.metrics.SparseTopKCategoricalAccuracy(k=3)]\n",
    ")"
   ]
  },
  {
   "cell_type": "markdown",
   "metadata": {},
   "source": [
    "- Custom metrics"
   ]
  },
  {
   "cell_type": "code",
   "execution_count": 38,
   "metadata": {},
   "outputs": [],
   "source": [
    "def mean_pred(y_true, y_pred):\n",
    "    return K.mean(y_pred)\n",
    "\n",
    "model.compile(\n",
    "    optimizer = 'adam',\n",
    "    loss = 'sparse_categorical_crossentropy',\n",
    "    metrics=[mean_pred]\n",
    ")"
   ]
  },
  {
   "cell_type": "markdown",
   "metadata": {},
   "source": [
    "- Multiple metrics"
   ]
  },
  {
   "cell_type": "code",
   "execution_count": 39,
   "metadata": {},
   "outputs": [],
   "source": [
    "model.compile(\n",
    "    optimizer='adam',\n",
    "    loss='sparse_categorical_crossentropy',\n",
    "    metrics=[mean_pred, \"accuracy\",tf.keras.metrics.SparseTopKCategoricalAccuracy(k=3)]\n",
    ")"
   ]
  },
  {
   "cell_type": "markdown",
   "metadata": {},
   "source": [
    "#### 1.2.7 The fit method"
   ]
  },
  {
   "cell_type": "code",
   "execution_count": 40,
   "metadata": {},
   "outputs": [],
   "source": [
    "from tensorflow.keras.preprocessing import image\n",
    "from tensorflow.keras.models import Sequential\n",
    "from tensorflow.keras.layers import Dense, Flatten, Conv2D, MaxPooling2D\n",
    "import matplotlib.pyplot as plt\n",
    "import numpy as np\n",
    "import pandas as pd\n",
    "import tensorflow as tf"
   ]
  },
  {
   "cell_type": "code",
   "execution_count": 41,
   "metadata": {},
   "outputs": [],
   "source": [
    "# Load the Fashion-MNIST dataset\n",
    "fashion_mnist_data = tf.keras.datasets.fashion_mnist\n",
    "(train_images, train_labels), (test_images, test_labels) = fashion_mnist_data.load_data()"
   ]
  },
  {
   "cell_type": "code",
   "execution_count": 42,
   "metadata": {},
   "outputs": [
    {
     "data": {
      "text/plain": [
       "(60000, 28, 28)"
      ]
     },
     "execution_count": 42,
     "metadata": {},
     "output_type": "execute_result"
    }
   ],
   "source": [
    "# Print the shape of the training data\n",
    "train_images.shape"
   ]
  },
  {
   "cell_type": "code",
   "execution_count": 43,
   "metadata": {},
   "outputs": [
    {
     "name": "stdout",
     "output_type": "stream",
     "text": [
      "9\n"
     ]
    }
   ],
   "source": [
    "# Define the labels\n",
    "labels = [\n",
    "    'T-shirt/top',\n",
    "    'Trouser',\n",
    "    'Pullover',\n",
    "    'Dress',\n",
    "    'Coat',\n",
    "    'Sandal',\n",
    "    'Shirt',\n",
    "    'Sneaker',\n",
    "    'Bag',\n",
    "    'Ankle boot'\n",
    "]\n",
    "\n",
    "print(train_labels[0])"
   ]
  },
  {
   "cell_type": "code",
   "execution_count": 44,
   "metadata": {},
   "outputs": [],
   "source": [
    "# Rescale the image values so that they lie in between 0 and 1\n",
    "\n",
    "train_images = train_images / 255.\n",
    "test_images = test_images / 255."
   ]
  },
  {
   "cell_type": "code",
   "execution_count": 45,
   "metadata": {},
   "outputs": [
    {
     "data": {
      "image/png": "[encoded data removed]",
      "text/plain": [
       "<Figure size 640x480 with 1 Axes>"
      ]
     },
     "metadata": {},
     "output_type": "display_data"
    },
    {
     "name": "stdout",
     "output_type": "stream",
     "text": [
      "labels : Ankle boot\n"
     ]
    }
   ],
   "source": [
    "# Display one of the images\n",
    "i = 0\n",
    "img = train_images[0,:,:]\n",
    "plt.imshow(img)\n",
    "plt.show()\n",
    "print(f\"labels : {labels[train_labels[i]]}\")"
   ]
  },
  {
   "cell_type": "code",
   "execution_count": 46,
   "metadata": {},
   "outputs": [],
   "source": [
    "model = tf.keras.Sequential([\n",
    "    Conv2D(16, kernel_size = 3, activation = 'relu', input_shape = (28,28,1)),\n",
    "    MaxPooling2D((3,3)),\n",
    "    Flatten(),\n",
    "    Dense(50, activation = 'softmax'),\n",
    "])"
   ]
  },
  {
   "cell_type": "code",
   "execution_count": 47,
   "metadata": {},
   "outputs": [],
   "source": [
    "model.compile(optimizer=tf.keras.optimizers.Adam(learning_rate=0.005),\n",
    "              loss=tf.keras.losses.sparse_categorical_crossentropy,\n",
    "              metrics=['accuracy','mae'])"
   ]
  },
  {
   "cell_type": "code",
   "execution_count": 48,
   "metadata": {},
   "outputs": [
    {
     "name": "stdout",
     "output_type": "stream",
     "text": [
      "Epoch 1/8\n",
      "600/600 [==============================] - 4s 6ms/step - loss: 0.4919 - accuracy: 0.8280 - mae: 4.4840\n",
      "Epoch 2/8\n",
      "600/600 [==============================] - 4s 6ms/step - loss: 0.3440 - accuracy: 0.8782 - mae: 4.4840\n",
      "Epoch 3/8\n",
      "600/600 [==============================] - 4s 7ms/step - loss: 0.3198 - accuracy: 0.8860 - mae: 4.4840\n",
      "Epoch 4/8\n",
      "600/600 [==============================] - 4s 7ms/step - loss: 0.2995 - accuracy: 0.8929 - mae: 4.4840\n",
      "Epoch 5/8\n",
      "600/600 [==============================] - 4s 7ms/step - loss: 0.2878 - accuracy: 0.8973 - mae: 4.4840\n",
      "Epoch 6/8\n",
      "600/600 [==============================] - 4s 7ms/step - loss: 0.2771 - accuracy: 0.9000 - mae: 4.4840\n",
      "Epoch 7/8\n",
      "600/600 [==============================] - 4s 7ms/step - loss: 0.2678 - accuracy: 0.9028 - mae: 4.4840\n",
      "Epoch 8/8\n",
      "600/600 [==============================] - 4s 7ms/step - loss: 0.2596 - accuracy: 0.9058 - mae: 4.4840\n"
     ]
    }
   ],
   "source": [
    "# Fit the model\n",
    "\n",
    "history = model.fit(train_images[..., np.newaxis], train_labels, epochs=8, batch_size=100)"
   ]
  },
  {
   "cell_type": "code",
   "execution_count": 49,
   "metadata": {},
   "outputs": [
    {
     "data": {
      "text/html": [
       "<div>\n",
       "<style scoped>\n",
       "    .dataframe tbody tr th:only-of-type {\n",
       "        vertical-align: middle;\n",
       "    }\n",
       "\n",
       "    .dataframe tbody tr th {\n",
       "        vertical-align: top;\n",
       "    }\n",
       "\n",
       "    .dataframe thead th {\n",
       "        text-align: right;\n",
       "    }\n",
       "</style>\n",
       "<table border=\"1\" class=\"dataframe\">\n",
       "  <thead>\n",
       "    <tr style=\"text-align: right;\">\n",
       "      <th></th>\n",
       "      <th>loss</th>\n",
       "      <th>accuracy</th>\n",
       "      <th>mae</th>\n",
       "    </tr>\n",
       "  </thead>\n",
       "  <tbody>\n",
       "    <tr>\n",
       "      <th>0</th>\n",
       "      <td>0.491851</td>\n",
       "      <td>0.828017</td>\n",
       "      <td>4.483996</td>\n",
       "    </tr>\n",
       "    <tr>\n",
       "      <th>1</th>\n",
       "      <td>0.343959</td>\n",
       "      <td>0.878167</td>\n",
       "      <td>4.484001</td>\n",
       "    </tr>\n",
       "    <tr>\n",
       "      <th>2</th>\n",
       "      <td>0.319778</td>\n",
       "      <td>0.886050</td>\n",
       "      <td>4.483996</td>\n",
       "    </tr>\n",
       "    <tr>\n",
       "      <th>3</th>\n",
       "      <td>0.299497</td>\n",
       "      <td>0.892900</td>\n",
       "      <td>4.483998</td>\n",
       "    </tr>\n",
       "    <tr>\n",
       "      <th>4</th>\n",
       "      <td>0.287797</td>\n",
       "      <td>0.897267</td>\n",
       "      <td>4.483997</td>\n",
       "    </tr>\n",
       "  </tbody>\n",
       "</table>\n",
       "</div>"
      ],
      "text/plain": [
       "       loss  accuracy       mae\n",
       "0  0.491851  0.828017  4.483996\n",
       "1  0.343959  0.878167  4.484001\n",
       "2  0.319778  0.886050  4.483996\n",
       "3  0.299497  0.892900  4.483998\n",
       "4  0.287797  0.897267  4.483997"
      ]
     },
     "execution_count": 49,
     "metadata": {},
     "output_type": "execute_result"
    }
   ],
   "source": [
    "df = pd.DataFrame(history.history)\n",
    "df.head()"
   ]
  },
  {
   "cell_type": "code",
   "execution_count": 50,
   "metadata": {},
   "outputs": [
    {
     "data": {
      "text/plain": [
       "[Text(0.5, 0, 'Epochs'), Text(0, 0.5, 'Loss')]"
      ]
     },
     "execution_count": 50,
     "metadata": {},
     "output_type": "execute_result"
    },
    {
     "data": {
      "image/png": "[encoded data removed]",
      "text/plain": [
       "<Figure size 640x480 with 1 Axes>"
      ]
     },
     "metadata": {},
     "output_type": "display_data"
    }
   ],
   "source": [
    "loss_plot = df.plot(y='loss', title= 'Loss vs Epochs', legend = False)\n",
    "loss_plot.set(xlabel = 'Epochs', ylabel = 'Loss')"
   ]
  },
  {
   "cell_type": "markdown",
   "metadata": {},
   "source": [
    "#### 1.2.8 Evaluation and prediction"
   ]
  },
  {
   "cell_type": "code",
   "execution_count": 51,
   "metadata": {},
   "outputs": [],
   "source": [
    "import matplotlib.pyplot as plt\n",
    "import numpy as np"
   ]
  },
  {
   "cell_type": "code",
   "execution_count": 53,
   "metadata": {},
   "outputs": [
    {
     "name": "stdout",
     "output_type": "stream",
     "text": [
      "313/313 [==============================] - 1s 2ms/step - loss: 0.3374 - accuracy: 0.8821 - mae: 4.4840\n"
     ]
    }
   ],
   "source": [
    "# Evaluate the model\n",
    "\n",
    "test_loss, test_accuracy, test_mae = model.evaluate(test_images[..., np.newaxis], test_labels)"
   ]
  },
  {
   "cell_type": "code",
   "execution_count": 56,
   "metadata": {},
   "outputs": [
    {
     "data": {
      "image/png": "[encoded data removed]",
      "text/plain": [
       "<Figure size 640x480 with 1 Axes>"
      ]
     },
     "metadata": {},
     "output_type": "display_data"
    },
    {
     "name": "stdout",
     "output_type": "stream",
     "text": [
      "label: Bag\n"
     ]
    }
   ],
   "source": [
    "# Make prediction from the model\n",
    "\n",
    "random_inx = np.random.choice(test_images.shape[0])\n",
    "inx = 30\n",
    "\n",
    "test_image = test_images[inx]\n",
    "plt.imshow(test_image)\n",
    "plt.show()\n",
    "print(f'label: {labels[test_labels[random_inx]]}')"
   ]
  },
  {
   "cell_type": "code",
   "execution_count": 58,
   "metadata": {},
   "outputs": [
    {
     "name": "stdout",
     "output_type": "stream",
     "text": [
      "1/1 [==============================] - 0s 19ms/step\n",
      "Model prediction : Bag\n"
     ]
    }
   ],
   "source": [
    "# Get the model predictions\n",
    "\n",
    "predictions = model.predict(test_image[np.newaxis, ..., np.newaxis])\n",
    "print(f'Model prediction : {labels[np.argmax(predictions)]}')"
   ]
  }
 ],
 "metadata": {
  "kernelspec": {
   "display_name": "Python 3",
   "language": "python",
   "name": "python3"
  },
  "language_info": {
   "codemirror_mode": {
    "name": "ipython",
    "version": 3
   },
   "file_extension": ".py",
   "mimetype": "text/x-python",
   "name": "python",
   "nbconvert_exporter": "python",
   "pygments_lexer": "ipython3",
   "version": "3.11.1"
  },
  "orig_nbformat": 4
 },
 "nbformat": 4,
 "nbformat_minor": 2
}
