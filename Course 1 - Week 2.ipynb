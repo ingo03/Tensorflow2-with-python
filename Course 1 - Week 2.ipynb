{
 "cells": [
  {
   "cell_type": "markdown",
   "metadata": {},
   "source": [
    "## Course 1 Getting Started with TensorFlow 2 - Week 2 The Sequential model API"
   ]
  },
  {
   "cell_type": "markdown",
   "metadata": {},
   "source": [
    "***"
   ]
  },
  {
   "cell_type": "markdown",
   "metadata": {},
   "source": [
    "#### 1.2.1 Building a Sequential model"
   ]
  },
  {
   "cell_type": "code",
   "execution_count": 1,
   "metadata": {},
   "outputs": [
    {
     "name": "stdout",
     "output_type": "stream",
     "text": [
      "2.13.0\n"
     ]
    }
   ],
   "source": [
    "import tensorflow as tf\n",
    "print(tf.__version__)"
   ]
  },
  {
   "cell_type": "code",
   "execution_count": 2,
   "metadata": {},
   "outputs": [],
   "source": [
    "from tensorflow.keras.models import Sequential\n",
    "from tensorflow.keras.layers import Flatten, Dense\n",
    "\n",
    "model_3 = Sequential([\n",
    "    Dense(64, activation = 'relu'),\n",
    "    Dense(10, activation = 'softmax')\n",
    "])"
   ]
  },
  {
   "cell_type": "code",
   "execution_count": 3,
   "metadata": {},
   "outputs": [],
   "source": [
    "model_1 = Sequential()\n",
    "\n",
    "model_1.add(Dense(64, activation = 'relu', input_shape = (784,)))\n",
    "model_1.add(Dense(10, activation = 'softmax'))"
   ]
  },
  {
   "cell_type": "code",
   "execution_count": 4,
   "metadata": {},
   "outputs": [],
   "source": [
    "model_2 = Sequential([\n",
    "    Flatten(input_shape = (28,28)),\n",
    "    Dense(64, activation = 'relu'),\n",
    "    Dense(10, activation = 'softmax')\n",
    "])"
   ]
  },
  {
   "cell_type": "code",
   "execution_count": 5,
   "metadata": {},
   "outputs": [],
   "source": [
    "model = Sequential([\n",
    "    Flatten(input_shape = (28,28)),\n",
    "    Dense(16, activation = 'relu', name = 'layer_1'),\n",
    "    Dense(16, activation = 'relu'),\n",
    "    Dense(10, activation = 'softmax'),\n",
    "    Dense(10)\n",
    "])"
   ]
  },
  {
   "cell_type": "code",
   "execution_count": 6,
   "metadata": {},
   "outputs": [
    {
     "data": {
      "text/plain": [
       "[<tf.Variable 'layer_1/kernel:0' shape=(784, 16) dtype=float32, numpy=\n",
       " array([[-0.01457074,  0.0460178 , -0.08074179, ..., -0.07817854,\n",
       "          0.0512764 ,  0.03214617],\n",
       "        [-0.07686979, -0.03356706,  0.04111144, ...,  0.06255139,\n",
       "         -0.04266797, -0.06732611],\n",
       "        [-0.07184032, -0.04906795, -0.06192636, ..., -0.08196469,\n",
       "          0.02229265, -0.0290739 ],\n",
       "        ...,\n",
       "        [ 0.07180974,  0.0392807 ,  0.00146553, ..., -0.06008758,\n",
       "         -0.03694945,  0.03449393],\n",
       "        [ 0.03288601, -0.07512748,  0.01608882, ..., -0.05969619,\n",
       "          0.00655745,  0.06713276],\n",
       "        [ 0.05635542,  0.01056427, -0.06564092, ...,  0.04958375,\n",
       "          0.03198898,  0.02750549]], dtype=float32)>,\n",
       " <tf.Variable 'layer_1/bias:0' shape=(16,) dtype=float32, numpy=\n",
       " array([0., 0., 0., 0., 0., 0., 0., 0., 0., 0., 0., 0., 0., 0., 0., 0.],\n",
       "       dtype=float32)>,\n",
       " <tf.Variable 'dense_6/kernel:0' shape=(16, 16) dtype=float32, numpy=\n",
       " array([[ 0.4263207 , -0.40647975,  0.28330907,  0.10872856, -0.2613254 ,\n",
       "         -0.26337582,  0.4122965 ,  0.41233346, -0.27106655, -0.1927314 ,\n",
       "         -0.29061574,  0.15400633,  0.24025694,  0.0349918 , -0.13307536,\n",
       "         -0.3655949 ],\n",
       "        [ 0.23778883, -0.20784403, -0.10246387,  0.04791981,  0.39219674,\n",
       "         -0.36212197, -0.32252535, -0.34855038, -0.26051167, -0.06816152,\n",
       "          0.38938048, -0.20507364, -0.19808482, -0.1312142 , -0.19220603,\n",
       "         -0.03206146],\n",
       "        [ 0.05454388, -0.14338824,  0.25992206,  0.28840527, -0.151988  ,\n",
       "          0.14789996, -0.25987893,  0.05384082, -0.27999097, -0.40257412,\n",
       "          0.19027105,  0.1185672 ,  0.3372729 ,  0.3073978 ,  0.30356726,\n",
       "          0.06428266],\n",
       "        [-0.06901634,  0.3512965 ,  0.07149604,  0.37167862,  0.23384544,\n",
       "         -0.29301208,  0.38190106,  0.24110636, -0.32908252, -0.22415186,\n",
       "          0.1485422 , -0.10917345,  0.31881824,  0.03225711, -0.14359277,\n",
       "          0.24802455],\n",
       "        [-0.2937684 , -0.1359007 , -0.16331759, -0.40946084,  0.09930149,\n",
       "         -0.4287095 ,  0.39490494,  0.05539808,  0.18161127, -0.02391928,\n",
       "         -0.35246548,  0.2811981 ,  0.2335296 , -0.11836597,  0.16240475,\n",
       "         -0.22277002],\n",
       "        [-0.43299648,  0.28562233,  0.04868335, -0.07706511, -0.26869524,\n",
       "          0.21730873,  0.15528747, -0.08845589,  0.1321005 ,  0.07228819,\n",
       "          0.06137288,  0.02898404, -0.04615319, -0.41772774,  0.2384868 ,\n",
       "          0.13707998],\n",
       "        [-0.12982616, -0.10438195,  0.2140018 ,  0.18290207,  0.17410907,\n",
       "          0.21887723, -0.40243208,  0.16916022, -0.173861  ,  0.04277387,\n",
       "         -0.10786459, -0.31742126,  0.2115896 ,  0.06197929, -0.2639622 ,\n",
       "          0.08925846],\n",
       "        [-0.06944683, -0.08137903, -0.39073765,  0.29542097,  0.08704165,\n",
       "          0.24525544,  0.01988131, -0.20889449,  0.09589878, -0.2565944 ,\n",
       "          0.3955694 , -0.12633288, -0.10399851, -0.35183004, -0.22297846,\n",
       "         -0.19681251],\n",
       "        [ 0.09410468,  0.31222704, -0.15720019,  0.37094572,  0.10137627,\n",
       "         -0.30040467, -0.04857835,  0.14732155,  0.25193968,  0.00106925,\n",
       "          0.1810123 , -0.346473  , -0.07183906, -0.42547062, -0.42973354,\n",
       "         -0.02026093],\n",
       "        [-0.19297318,  0.02561268, -0.30754784,  0.1474286 , -0.02990627,\n",
       "         -0.03768578, -0.4159632 , -0.20828383,  0.18088582, -0.09553617,\n",
       "         -0.00109237,  0.29400834, -0.28899223, -0.05136403, -0.1690155 ,\n",
       "          0.4258081 ],\n",
       "        [-0.05341083, -0.25672942,  0.40909323, -0.14911354,  0.00251624,\n",
       "         -0.27273548, -0.19442502, -0.24159779,  0.40109846,  0.07573828,\n",
       "         -0.21399745,  0.18149021, -0.20921008, -0.13799074, -0.02276981,\n",
       "          0.17033139],\n",
       "        [-0.25027022, -0.24441867,  0.37096164, -0.13736182,  0.21405497,\n",
       "         -0.02531701,  0.10375747,  0.0997543 ,  0.29047123, -0.4255907 ,\n",
       "         -0.21060029,  0.09554878,  0.19522068,  0.13801584,  0.11476389,\n",
       "          0.40547654],\n",
       "        [-0.25606996, -0.36634225,  0.19060758,  0.25342974,  0.16389158,\n",
       "          0.35403147,  0.4060262 , -0.18156773,  0.30226502, -0.3171993 ,\n",
       "          0.39342186,  0.03406534, -0.12100744, -0.28698784,  0.0721744 ,\n",
       "          0.41259918],\n",
       "        [-0.26311678, -0.17177299,  0.16429517,  0.07367113,  0.23083827,\n",
       "          0.16213599, -0.01768222, -0.28154933, -0.31806627, -0.08814824,\n",
       "          0.298337  , -0.00119913, -0.05531847, -0.15922552,  0.0749006 ,\n",
       "          0.27303407],\n",
       "        [-0.36897618, -0.41301256, -0.33401358, -0.10004574,  0.15601727,\n",
       "         -0.16939563,  0.07157573, -0.24291025, -0.30977747,  0.29528674,\n",
       "          0.36679205, -0.2804458 , -0.24845652, -0.2010239 ,  0.42110136,\n",
       "         -0.26190454],\n",
       "        [-0.18040329,  0.20776269,  0.2799606 ,  0.32319835, -0.29179782,\n",
       "         -0.03042245,  0.13358918, -0.10235539, -0.06059065,  0.0174228 ,\n",
       "          0.38067397,  0.38122258, -0.24613346, -0.04563886,  0.02925885,\n",
       "         -0.39173648]], dtype=float32)>,\n",
       " <tf.Variable 'dense_6/bias:0' shape=(16,) dtype=float32, numpy=\n",
       " array([0., 0., 0., 0., 0., 0., 0., 0., 0., 0., 0., 0., 0., 0., 0., 0.],\n",
       "       dtype=float32)>,\n",
       " <tf.Variable 'dense_7/kernel:0' shape=(16, 10) dtype=float32, numpy=\n",
       " array([[ 0.24176383,  0.22654581,  0.15554488, -0.3768494 , -0.2086479 ,\n",
       "          0.06119293, -0.27507842,  0.04818821, -0.45753968,  0.05546975],\n",
       "        [-0.40252236,  0.12390453, -0.36514878, -0.04764429,  0.17868769,\n",
       "          0.23424596,  0.32537204,  0.44870394, -0.3596007 ,  0.38419288],\n",
       "        [-0.10205197, -0.21286076,  0.03185588, -0.0247238 , -0.24445514,\n",
       "          0.14704996,  0.22168112,  0.15639973, -0.0552631 ,  0.10081524],\n",
       "        [ 0.14277643,  0.09992784,  0.02987778, -0.33088222,  0.01483735,\n",
       "          0.0917452 , -0.33371198, -0.17931393, -0.2397065 , -0.01627177],\n",
       "        [-0.3002553 , -0.47776443, -0.20478368,  0.11132741, -0.0388388 ,\n",
       "          0.00240025, -0.3518545 ,  0.27873373, -0.00566387,  0.08308494],\n",
       "        [-0.0359543 , -0.04904675,  0.09296584, -0.13028973,  0.10917759,\n",
       "          0.11225462, -0.31028616,  0.0495742 , -0.3254605 , -0.14330351],\n",
       "        [-0.05667931,  0.10335398, -0.18410209, -0.44605276,  0.3233924 ,\n",
       "         -0.0443216 ,  0.3748412 , -0.21506354, -0.34499884,  0.10228884],\n",
       "        [ 0.17695755, -0.40471852, -0.29610315,  0.40772945,  0.16229773,\n",
       "          0.09462386,  0.20355362, -0.31043473,  0.09417135, -0.0518308 ],\n",
       "        [-0.46402508,  0.40378326, -0.33278036, -0.3237109 ,  0.3022641 ,\n",
       "          0.2820832 ,  0.2897507 ,  0.32878608,  0.03104544,  0.3680808 ],\n",
       "        [ 0.40953988,  0.11805904,  0.47528434,  0.47988445, -0.35113582,\n",
       "          0.06370407, -0.47258812, -0.2503265 ,  0.32210088,  0.12803048],\n",
       "        [ 0.0320124 ,  0.24126953,  0.07976586, -0.03971085,  0.33150393,\n",
       "          0.06476289,  0.07621169, -0.29533085,  0.20150542,  0.37476617],\n",
       "        [ 0.4452144 ,  0.47881687, -0.33450398,  0.0086439 , -0.09201628,\n",
       "          0.39979374, -0.36126554,  0.1648708 ,  0.3802563 , -0.3875187 ],\n",
       "        [-0.40977913,  0.3013971 , -0.36542135,  0.19736153,  0.23465985,\n",
       "         -0.46175575,  0.06631243, -0.08881131,  0.11382705,  0.2765516 ],\n",
       "        [ 0.23387241, -0.26868987,  0.07760519, -0.30340207,  0.3232025 ,\n",
       "          0.01655236, -0.32716495, -0.1079669 , -0.28944558, -0.22408196],\n",
       "        [-0.34616178, -0.3844285 ,  0.1984663 ,  0.22827739, -0.31200382,\n",
       "         -0.4176514 , -0.00722241, -0.19754225, -0.12683716, -0.09256673],\n",
       "        [-0.02389699,  0.21887028, -0.33652604,  0.20202631,  0.2774406 ,\n",
       "         -0.33130336, -0.23822571, -0.16642877, -0.34851578, -0.0492647 ]],\n",
       "       dtype=float32)>,\n",
       " <tf.Variable 'dense_7/bias:0' shape=(10,) dtype=float32, numpy=array([0., 0., 0., 0., 0., 0., 0., 0., 0., 0.], dtype=float32)>,\n",
       " <tf.Variable 'dense_8/kernel:0' shape=(10, 10) dtype=float32, numpy=\n",
       " array([[-0.06186622, -0.36752266, -0.00899643,  0.09190965, -0.15679008,\n",
       "          0.53912306,  0.48140407, -0.54264   , -0.3247207 , -0.48931   ],\n",
       "        [-0.13434568,  0.02703899, -0.07158989, -0.5404464 , -0.41007996,\n",
       "          0.36808455, -0.3401134 ,  0.06105149, -0.19702205,  0.5073606 ],\n",
       "        [ 0.43004078,  0.28259063, -0.20449805,  0.39223808, -0.38244888,\n",
       "         -0.0857347 , -0.4573531 ,  0.0453229 ,  0.13889557,  0.5175489 ],\n",
       "        [-0.18313333,  0.50904393, -0.02760875,  0.49011636, -0.517732  ,\n",
       "         -0.36649245,  0.376886  , -0.18012396,  0.12734318,  0.13463557],\n",
       "        [-0.46460027, -0.21255228, -0.51585877,  0.45503795, -0.22344351,\n",
       "          0.4555478 , -0.29394808,  0.28818738, -0.00314337, -0.03189921],\n",
       "        [ 0.26357466,  0.24872923, -0.14104766,  0.14757025,  0.21063393,\n",
       "          0.20081902,  0.091717  ,  0.03989154,  0.48218238,  0.15603882],\n",
       "        [ 0.4522859 ,  0.2079987 ,  0.40171623,  0.14311719,  0.1898737 ,\n",
       "          0.414352  ,  0.41355205, -0.25377986, -0.34396273,  0.16344923],\n",
       "        [ 0.0921669 ,  0.26982665,  0.24080652, -0.3797797 ,  0.3078115 ,\n",
       "          0.16285807, -0.33318383, -0.3385525 , -0.5444963 , -0.53498286],\n",
       "        [ 0.43739867, -0.53225636, -0.53805166, -0.09539345, -0.1772868 ,\n",
       "         -0.50781995,  0.2911722 ,  0.30840045,  0.34924918,  0.22060353],\n",
       "        [ 0.36575317, -0.41363716, -0.39745167, -0.48314524, -0.10624343,\n",
       "         -0.35412046, -0.3866393 , -0.19218394, -0.2000851 , -0.17955315]],\n",
       "       dtype=float32)>,\n",
       " <tf.Variable 'dense_8/bias:0' shape=(10,) dtype=float32, numpy=array([0., 0., 0., 0., 0., 0., 0., 0., 0., 0.], dtype=float32)>]"
      ]
     },
     "execution_count": 6,
     "metadata": {},
     "output_type": "execute_result"
    }
   ],
   "source": [
    "model.weights"
   ]
  },
  {
   "cell_type": "code",
   "execution_count": 7,
   "metadata": {},
   "outputs": [
    {
     "name": "stdout",
     "output_type": "stream",
     "text": [
      "Model: \"sequential_3\"\n",
      "_________________________________________________________________\n",
      " Layer (type)                Output Shape              Param #   \n",
      "=================================================================\n",
      " flatten_1 (Flatten)         (None, 784)               0         \n",
      "                                                                 \n",
      " layer_1 (Dense)             (None, 16)                12560     \n",
      "                                                                 \n",
      " dense_6 (Dense)             (None, 16)                272       \n",
      "                                                                 \n",
      " dense_7 (Dense)             (None, 10)                170       \n",
      "                                                                 \n",
      " dense_8 (Dense)             (None, 10)                110       \n",
      "                                                                 \n",
      "=================================================================\n",
      "Total params: 13112 (51.22 KB)\n",
      "Trainable params: 13112 (51.22 KB)\n",
      "Non-trainable params: 0 (0.00 Byte)\n",
      "_________________________________________________________________\n"
     ]
    }
   ],
   "source": [
    "model.summary()"
   ]
  },
  {
   "cell_type": "markdown",
   "metadata": {},
   "source": [
    "#### 1.2.2 Convolutional neural networks"
   ]
  },
  {
   "cell_type": "code",
   "execution_count": 8,
   "metadata": {},
   "outputs": [],
   "source": [
    "from tensorflow.keras.layers import Conv2D, MaxPooling2D"
   ]
  },
  {
   "cell_type": "code",
   "execution_count": 9,
   "metadata": {},
   "outputs": [],
   "source": [
    "model = Sequential([\n",
    "    Conv2D(16, kernel_size = 3, padding = 'SAME', activation = 'relu', input_shape = (32, 32, 3)),      # (None, 30, 30, 16)\n",
    "    MaxPooling2D(pool_size=3),\n",
    "    Flatten(),\n",
    "    Dense(64, activation = 'relu'),\n",
    "    Dense(16, activation = 'softmax')\n",
    "])"
   ]
  },
  {
   "cell_type": "code",
   "execution_count": 10,
   "metadata": {},
   "outputs": [],
   "source": [
    "model_2 = Sequential([\n",
    "    Conv2D(16, (3,3), activation = 'relu', input_shape = (28, 28, 1), data_format = 'channels_last'),\n",
    "    MaxPooling2D(pool_size=3),\n",
    "    Flatten(),\n",
    "    Dense(10, activation = 'softmax')\n",
    "])"
   ]
  },
  {
   "cell_type": "code",
   "execution_count": 11,
   "metadata": {},
   "outputs": [
    {
     "name": "stdout",
     "output_type": "stream",
     "text": [
      "Model: \"sequential_4\"\n",
      "_________________________________________________________________\n",
      " Layer (type)                Output Shape              Param #   \n",
      "=================================================================\n",
      " conv2d (Conv2D)             (None, 32, 32, 16)        448       \n",
      "                                                                 \n",
      " max_pooling2d (MaxPooling2  (None, 10, 10, 16)        0         \n",
      " D)                                                              \n",
      "                                                                 \n",
      " flatten_2 (Flatten)         (None, 1600)              0         \n",
      "                                                                 \n",
      " dense_9 (Dense)             (None, 64)                102464    \n",
      "                                                                 \n",
      " dense_10 (Dense)            (None, 16)                1040      \n",
      "                                                                 \n",
      "=================================================================\n",
      "Total params: 103952 (406.06 KB)\n",
      "Trainable params: 103952 (406.06 KB)\n",
      "Non-trainable params: 0 (0.00 Byte)\n",
      "_________________________________________________________________\n"
     ]
    }
   ],
   "source": [
    "model.summary()"
   ]
  },
  {
   "cell_type": "code",
   "execution_count": 12,
   "metadata": {},
   "outputs": [
    {
     "name": "stdout",
     "output_type": "stream",
     "text": [
      "Model: \"sequential_5\"\n",
      "_________________________________________________________________\n",
      " Layer (type)                Output Shape              Param #   \n",
      "=================================================================\n",
      " conv2d_1 (Conv2D)           (None, 26, 26, 16)        160       \n",
      "                                                                 \n",
      " max_pooling2d_1 (MaxPoolin  (None, 8, 8, 16)          0         \n",
      " g2D)                                                            \n",
      "                                                                 \n",
      " flatten_3 (Flatten)         (None, 1024)              0         \n",
      "                                                                 \n",
      " dense_11 (Dense)            (None, 10)                10250     \n",
      "                                                                 \n",
      "=================================================================\n",
      "Total params: 10410 (40.66 KB)\n",
      "Trainable params: 10410 (40.66 KB)\n",
      "Non-trainable params: 0 (0.00 Byte)\n",
      "_________________________________________________________________\n"
     ]
    }
   ],
   "source": [
    "model_2.summary()"
   ]
  },
  {
   "cell_type": "markdown",
   "metadata": {},
   "source": [
    "#### 1.2.3 Weight Initialization"
   ]
  },
  {
   "cell_type": "markdown",
   "metadata": {},
   "source": [
    "Default Weights and biases\n",
    "In a Dense Layer, the biases are set to zero by default, while the weight are set according to `glorot_uniform`, the Glorot uniform initializer.\n",
    "The Gloroto uniform initialiser draws the weights uniformly at random from the closed interval [-c, c], where  \n",
    "$$ c = \\sqrt{ \\frac{6}{(n_{input} + n_{output})}}"
   ]
  },
  {
   "cell_type": "code",
   "execution_count": 13,
   "metadata": {},
   "outputs": [],
   "source": [
    "from tensorflow.keras.models import Sequential\n",
    "from tensorflow.keras.layers import Flatten, Dense, Conv1D, MaxPooling1D \n",
    "import tensorflow as tf"
   ]
  },
  {
   "cell_type": "code",
   "execution_count": 14,
   "metadata": {},
   "outputs": [],
   "source": [
    "model = Sequential([\n",
    "    Conv1D(filters=16, kernel_size=3, input_shape=(128, 64), kernel_initializer='random_uniform', bias_initializer=\"zeros\", activation='relu'),\n",
    "    MaxPooling1D(pool_size=4),\n",
    "    Flatten(),\n",
    "    Dense(64, kernel_initializer='he_uniform', bias_initializer='ones', activation='relu'),\n",
    "])\n",
    "model.add(Dense(64, \n",
    "                kernel_initializer=tf.keras.initializers.RandomNormal(mean=0.0, stddev=0.05), \n",
    "                bias_initializer=tf.keras.initializers.Constant(value=0.4), \n",
    "                activation='relu'),)\n",
    "\n",
    "model.add(Dense(8, \n",
    "                kernel_initializer=tf.keras.initializers.Orthogonal(gain=1.0, seed=None), \n",
    "                bias_initializer=tf.keras.initializers.Constant(value=0.4), \n",
    "                activation='relu'))"
   ]
  },
  {
   "cell_type": "code",
   "execution_count": 15,
   "metadata": {},
   "outputs": [
    {
     "name": "stdout",
     "output_type": "stream",
     "text": [
      "Model: \"sequential_6\"\n",
      "_________________________________________________________________\n",
      " Layer (type)                Output Shape              Param #   \n",
      "=================================================================\n",
      " conv1d (Conv1D)             (None, 126, 16)           3088      \n",
      "                                                                 \n",
      " max_pooling1d (MaxPooling1  (None, 31, 16)            0         \n",
      " D)                                                              \n",
      "                                                                 \n",
      " flatten_4 (Flatten)         (None, 496)               0         \n",
      "                                                                 \n",
      " dense_12 (Dense)            (None, 64)                31808     \n",
      "                                                                 \n",
      " dense_13 (Dense)            (None, 64)                4160      \n",
      "                                                                 \n",
      " dense_14 (Dense)            (None, 8)                 520       \n",
      "                                                                 \n",
      "=================================================================\n",
      "Total params: 39576 (154.59 KB)\n",
      "Trainable params: 39576 (154.59 KB)\n",
      "Non-trainable params: 0 (0.00 Byte)\n",
      "_________________________________________________________________\n"
     ]
    }
   ],
   "source": [
    "model.summary()"
   ]
  },
  {
   "cell_type": "markdown",
   "metadata": {},
   "source": [
    "- Custom weight and bias initialisers"
   ]
  },
  {
   "cell_type": "code",
   "execution_count": 16,
   "metadata": {},
   "outputs": [],
   "source": [
    "import tensorflow.keras.backend as K"
   ]
  },
  {
   "cell_type": "code",
   "execution_count": 17,
   "metadata": {},
   "outputs": [],
   "source": [
    "def my_init(shape, dtype=None):\n",
    "    return K.random_normal(shape, dtype=dtype)\n",
    "\n",
    "model.add(Dense(64, kernel_initializer=my_init))"
   ]
  },
  {
   "cell_type": "code",
   "execution_count": 18,
   "metadata": {},
   "outputs": [
    {
     "name": "stdout",
     "output_type": "stream",
     "text": [
      "Model: \"sequential_6\"\n",
      "_________________________________________________________________\n",
      " Layer (type)                Output Shape              Param #   \n",
      "=================================================================\n",
      " conv1d (Conv1D)             (None, 126, 16)           3088      \n",
      "                                                                 \n",
      " max_pooling1d (MaxPooling1  (None, 31, 16)            0         \n",
      " D)                                                              \n",
      "                                                                 \n",
      " flatten_4 (Flatten)         (None, 496)               0         \n",
      "                                                                 \n",
      " dense_12 (Dense)            (None, 64)                31808     \n",
      "                                                                 \n",
      " dense_13 (Dense)            (None, 64)                4160      \n",
      "                                                                 \n",
      " dense_14 (Dense)            (None, 8)                 520       \n",
      "                                                                 \n",
      " dense_15 (Dense)            (None, 64)                576       \n",
      "                                                                 \n",
      "=================================================================\n",
      "Total params: 40152 (156.84 KB)\n",
      "Trainable params: 40152 (156.84 KB)\n",
      "Non-trainable params: 0 (0.00 Byte)\n",
      "_________________________________________________________________\n"
     ]
    }
   ],
   "source": [
    "model.summary()"
   ]
  },
  {
   "cell_type": "markdown",
   "metadata": {},
   "source": [
    "- Visualising the initialised weights and biases"
   ]
  },
  {
   "cell_type": "code",
   "execution_count": 19,
   "metadata": {},
   "outputs": [],
   "source": [
    "import matplotlib.pyplot as plt"
   ]
  },
  {
   "cell_type": "code",
   "execution_count": 20,
   "metadata": {},
   "outputs": [
    {
     "data": {
      "image/png": "[encoded data removed]",
      "text/plain": [
       "<Figure size 1200x1600 with 10 Axes>"
      ]
     },
     "metadata": {},
     "output_type": "display_data"
    }
   ],
   "source": [
    "# Plot histograms of weight and bias values\n",
    "\n",
    "fig, axes = plt.subplots(5, 2, figsize=(12,16))\n",
    "fig.subplots_adjust(hspace=0.5, wspace=0.5)\n",
    "\n",
    "# Filter out the pooling and flatten layers, that don't have any weights\n",
    "weight_layers = [layer for layer in model.layers if len(layer.weights) > 0]\n",
    "\n",
    "for i, layer in enumerate(weight_layers):\n",
    "    for j in [0, 1]:\n",
    "        axes[i, j].hist(layer.weights[j].numpy().flatten(), align='left')\n",
    "        axes[i, j].set_title(layer.weights[j].name)"
   ]
  },
  {
   "cell_type": "markdown",
   "metadata": {},
   "source": [
    "#### 1.2.4 Compiling your model"
   ]
  },
  {
   "cell_type": "markdown",
   "metadata": {},
   "source": [
    "- The compile method"
   ]
  },
  {
   "cell_type": "code",
   "execution_count": 21,
   "metadata": {},
   "outputs": [],
   "source": [
    "import tensorflow as tf\n",
    "from tensorflow.keras.models import Sequential\n",
    "from tensorflow.keras.layers import Dense"
   ]
  },
  {
   "cell_type": "code",
   "execution_count": 22,
   "metadata": {},
   "outputs": [],
   "source": [
    "model = Sequential([\n",
    "    Dense(64, activation='elu', input_shape=(32,)),\n",
    "    Dense(1, activation = 'sigmoid')\n",
    "])"
   ]
  },
  {
   "cell_type": "code",
   "execution_count": 23,
   "metadata": {},
   "outputs": [],
   "source": [
    "model.compile(\n",
    "    optimizer= tf.keras.optimizers.SGD(learning_rate=0.001, momentum= 0.9, nesterov = True),\n",
    "    loss = tf.keras.losses.BinaryCrossentropy(from_logits=True),\n",
    "    metrics= [tf.keras.metrics.BinaryAccuracy(threshold=0.7), tf.keras.metrics.MeanAbsoluteError()]\n",
    ")"
   ]
  },
  {
   "cell_type": "markdown",
   "metadata": {},
   "source": [
    "- The Compile Method (Practice)"
   ]
  },
  {
   "cell_type": "code",
   "execution_count": 24,
   "metadata": {},
   "outputs": [],
   "source": [
    "model.compile(\n",
    "    optimizer = 'adam',\n",
    "    loss = 'categorical_crossentropy',\n",
    "    metrics=['accuracy', 'mae']\n",
    ")"
   ]
  },
  {
   "cell_type": "code",
   "execution_count": 25,
   "metadata": {},
   "outputs": [
    {
     "name": "stdout",
     "output_type": "stream",
     "text": [
      "categorical_crossentropy\n",
      "<keras.src.optimizers.adam.Adam object at 0x00000170A51E2AD0>\n",
      "[]\n",
      "<tf.Variable 'learning_rate:0' shape=() dtype=float32, numpy=0.001>\n"
     ]
    }
   ],
   "source": [
    "print(model.loss)\n",
    "print(model.optimizer)\n",
    "print(model.metrics)\n",
    "print(model.optimizer.lr)"
   ]
  },
  {
   "cell_type": "code",
   "execution_count": 26,
   "metadata": {},
   "outputs": [],
   "source": [
    "opt = tf.keras.optimizers.Adam(learning_rate=0.005)\n",
    "acc = tf.keras.metrics.SparseCategoricalAccuracy()\n",
    "mae = tf.keras.metrics.MeanAbsoluteError()\n",
    "\n",
    "model.compile(\n",
    "    optimizer = opt,\n",
    "    loss ='sparse_categorical_crossentropy',\n",
    "    metrics = [acc, mae]\n",
    ")"
   ]
  },
  {
   "cell_type": "code",
   "execution_count": 27,
   "metadata": {},
   "outputs": [
    {
     "name": "stdout",
     "output_type": "stream",
     "text": [
      "<keras.src.optimizers.adam.Adam object at 0x00000170A0A14350>\n",
      "sparse_categorical_crossentropy\n",
      "[]\n",
      "<tf.Variable 'learning_rate:0' shape=() dtype=float32, numpy=0.005>\n"
     ]
    }
   ],
   "source": [
    "print(model.optimizer)\n",
    "print(model.loss)\n",
    "print(model.metrics)\n",
    "print(model.optimizer.lr)"
   ]
  },
  {
   "cell_type": "markdown",
   "metadata": {},
   "source": [
    "#### 1.2.6 Optimizers, loss functions, and metrics"
   ]
  },
  {
   "cell_type": "markdown",
   "metadata": {},
   "source": [
    "- Metrics in Keras"
   ]
  },
  {
   "cell_type": "code",
   "execution_count": 28,
   "metadata": {},
   "outputs": [
    {
     "name": "stdout",
     "output_type": "stream",
     "text": [
      "2.13.0\n"
     ]
    }
   ],
   "source": [
    "import tensorflow as tf\n",
    "from tensorflow.keras.models import Sequential\n",
    "from tensorflow.keras.layers import Dense, Flatten\n",
    "import tensorflow.keras.backend as K\n",
    "print(tf.__version__)"
   ]
  },
  {
   "cell_type": "code",
   "execution_count": 29,
   "metadata": {},
   "outputs": [],
   "source": [
    "model = Sequential([\n",
    "    Flatten(input_shape=(28,28)),\n",
    "    Dense(32, activation = 'relu'),\n",
    "    Dense(32, activation = 'tanh'),\n",
    "    Dense(10, activation = 'softmax')\n",
    "])"
   ]
  },
  {
   "cell_type": "code",
   "execution_count": 30,
   "metadata": {},
   "outputs": [],
   "source": [
    "model.compile(\n",
    "    optimizer = 'adam',\n",
    "    loss = 'sparse_categorical_crossentropy',\n",
    "    metrics=['accuracy']\n",
    ")"
   ]
  },
  {
   "cell_type": "markdown",
   "metadata": {},
   "source": [
    "    - Case 1 : Binary Classification with sigmoid activation function"
   ]
  },
  {
   "cell_type": "code",
   "execution_count": 31,
   "metadata": {},
   "outputs": [
    {
     "data": {
      "text/plain": [
       "<tf.Tensor: shape=(), dtype=float32, numpy=0.6666667>"
      ]
     },
     "execution_count": 31,
     "metadata": {},
     "output_type": "execute_result"
    }
   ],
   "source": [
    "y_true = tf.constant([0.0,1.0,1.0])\n",
    "y_pred = tf.constant([0.4,0.8, 0.3])\n",
    "accuracy = K.mean(K.equal(y_true, K.round(y_pred)))\n",
    "accuracy"
   ]
  },
  {
   "cell_type": "markdown",
   "metadata": {},
   "source": [
    "    - Case 2 :Categorical Classification"
   ]
  },
  {
   "cell_type": "markdown",
   "metadata": {},
   "source": [
    "Now suppose we are training a model for a classification problem which should sort data into  𝑚>2\n",
    "  different classes using a softmax activation function in the last layer.\n",
    "\n",
    "Given a training example with input  𝑥(𝑖)\n",
    " , the model will output a tensor of probabilities  𝑝1,𝑝2,…𝑝𝑚\n",
    " , giving the likelihood (according to the model) that  𝑥(𝑖)\n",
    "  falls into each class.\n",
    "\n",
    "The accuracy metric works by determining the largest argument in the  𝑦(𝑖)𝑝𝑟𝑒𝑑\n",
    "  tensor, and compares its index to the index of the maximum value of  𝑦(𝑖)𝑡𝑟𝑢𝑒\n",
    "  to determine  𝛿(𝑦(𝑖)𝑝𝑟𝑒𝑑,𝑦(𝑖)𝑡𝑟𝑢𝑒)\n",
    " . It then computes the accuracy in the same way as for the binary classification case.\n",
    "\n",
    "$$ accuracy = \\frac{1}{N} \\sum_{i=1}^N \\delta(y_{pred}^{(i)},y_{true}^{(i)}) $$\n",
    " \n",
    "In the backend of Keras, the accuracy metric is implemented slightly differently depending on whether we have a binary classification problem ( 𝑚=2\n",
    " ) or a categorical classifcation problem. Note that the accuracy for binary classification problems is the same, no matter if we use a sigmoid or softmax activation function to obtain the output."
   ]
  },
  {
   "cell_type": "code",
   "execution_count": 32,
   "metadata": {},
   "outputs": [
    {
     "data": {
      "text/plain": [
       "<tf.Tensor: shape=(), dtype=float32, numpy=0.5>"
      ]
     },
     "execution_count": 32,
     "metadata": {},
     "output_type": "execute_result"
    }
   ],
   "source": [
    "y_true = tf.constant([[0.0,1.0],[1.0,0.0],[1.0,0.0],[0.0,1.0]])\n",
    "y_pred = tf.constant([[0.4,0.6], [0.3,0.7], [0.05,0.95],[0.33,0.67]])\n",
    "accuracy =K.mean(K.equal(y_true, K.round(y_pred)))\n",
    "accuracy"
   ]
  },
  {
   "cell_type": "code",
   "execution_count": 33,
   "metadata": {},
   "outputs": [
    {
     "data": {
      "text/plain": [
       "<tf.Tensor: shape=(), dtype=float32, numpy=0.6666667>"
      ]
     },
     "execution_count": 33,
     "metadata": {},
     "output_type": "execute_result"
    }
   ],
   "source": [
    "y_true = tf.constant([[0.0,1.0,0.0,0.0],[1.0,0.0,0.0,0.0],[0.0,0.0,1.0,0.0]])\n",
    "y_pred = tf.constant([[0.4,0.6,0.0,0.0], [0.3,0.2,0.1,0.4], [0.05,0.35,0.5,0.1]])\n",
    "accuracy = K.mean(K.equal(K.argmax(y_true, axis=-1), K.argmax(y_pred, axis=-1)))\n",
    "accuracy"
   ]
  },
  {
   "cell_type": "markdown",
   "metadata": {},
   "source": [
    "- Other examples of metrics"
   ]
  },
  {
   "cell_type": "markdown",
   "metadata": {},
   "source": [
    "    - Binary accuracy and categorical accuracy"
   ]
  },
  {
   "cell_type": "markdown",
   "metadata": {},
   "source": [
    "The `binary_accuracy` and `categorical_accuracy` metrics are, by default, identical to the Case 1 and 2 respectively of the `accuracy` metric explained above. \n",
    "\n",
    "However, using `binary_accuracy` allows you to use the optional `threshold` argument, which sets the minimum value of $y_{pred}$ which will be rounded to 1. As mentioned above, it is set as `threshold=0.5` by default.\n",
    "\n",
    "Below we give some examples of how to compile a model with `binary_accuracy` with and without a threshold."
   ]
  },
  {
   "cell_type": "code",
   "execution_count": 34,
   "metadata": {},
   "outputs": [],
   "source": [
    "model.compile(\n",
    "    optimizer = 'adam',\n",
    "    loss = 'sparse_categorical_crossentropy',\n",
    "    metrics = ['binary_accuracy'] # metrics = [tf.keras.metrics.BinaryAccuracy(threshold = 0.5)]\n",
    ")"
   ]
  },
  {
   "cell_type": "markdown",
   "metadata": {},
   "source": [
    "    - Sparse categorical accuracy"
   ]
  },
  {
   "cell_type": "code",
   "execution_count": 35,
   "metadata": {},
   "outputs": [],
   "source": [
    "model.compile(optimizer='adam',\n",
    "              loss='sparse_categorical_crossentropy',\n",
    "              metrics=[\"sparse_categorical_accuracy\"])\n",
    "\n",
    "model.compile(optimizer='adam',\n",
    "              loss='sparse_categorical_crossentropy',\n",
    "              metrics=[tf.keras.metrics.SparseCategoricalAccuracy()])"
   ]
  },
  {
   "cell_type": "markdown",
   "metadata": {},
   "source": [
    "    - (Sparse) Top k-categorical accuracy"
   ]
  },
  {
   "cell_type": "code",
   "execution_count": 36,
   "metadata": {},
   "outputs": [],
   "source": [
    "model.compile(\n",
    "    optimizer='adam',\n",
    "    loss='sparse_categorical_crossentropy',\n",
    "    metrics=[\"top_k_categorical_accuracy\"] # metrics = [tf.keras.metrics.SparseTopKCategoricalAccuracy(k=3)]\n",
    ")"
   ]
  },
  {
   "cell_type": "markdown",
   "metadata": {},
   "source": [
    "- Custom metrics"
   ]
  },
  {
   "cell_type": "code",
   "execution_count": 37,
   "metadata": {},
   "outputs": [],
   "source": [
    "def mean_pred(y_true, y_pred):\n",
    "    return K.mean(y_pred)\n",
    "\n",
    "model.compile(\n",
    "    optimizer = 'adam',\n",
    "    loss = 'sparse_categorical_crossentropy',\n",
    "    metrics=[mean_pred]\n",
    ")"
   ]
  },
  {
   "cell_type": "markdown",
   "metadata": {},
   "source": [
    "- Multiple metrics"
   ]
  },
  {
   "cell_type": "code",
   "execution_count": 38,
   "metadata": {},
   "outputs": [],
   "source": [
    "model.compile(\n",
    "    optimizer='adam',\n",
    "    loss='sparse_categorical_crossentropy',\n",
    "    metrics=[mean_pred, \"accuracy\",tf.keras.metrics.SparseTopKCategoricalAccuracy(k=3)]\n",
    ")"
   ]
  },
  {
   "cell_type": "markdown",
   "metadata": {},
   "source": [
    "#### 1.2.7 The fit method"
   ]
  },
  {
   "cell_type": "code",
   "execution_count": 39,
   "metadata": {},
   "outputs": [],
   "source": [
    "from tensorflow.keras.preprocessing import image\n",
    "from tensorflow.keras.models import Sequential\n",
    "from tensorflow.keras.layers import Dense, Flatten, Conv2D, MaxPooling2D\n",
    "import matplotlib.pyplot as plt\n",
    "import numpy as np\n",
    "import pandas as pd\n",
    "import tensorflow as tf"
   ]
  },
  {
   "cell_type": "code",
   "execution_count": 40,
   "metadata": {},
   "outputs": [],
   "source": [
    "# Load the Fashion-MNIST dataset\n",
    "fashion_mnist_data = tf.keras.datasets.fashion_mnist\n",
    "(train_images, train_labels), (test_images, test_labels) = fashion_mnist_data.load_data()"
   ]
  },
  {
   "cell_type": "code",
   "execution_count": 41,
   "metadata": {},
   "outputs": [
    {
     "data": {
      "text/plain": [
       "(60000, 28, 28)"
      ]
     },
     "execution_count": 41,
     "metadata": {},
     "output_type": "execute_result"
    }
   ],
   "source": [
    "# Print the shape of the training data\n",
    "train_images.shape"
   ]
  },
  {
   "cell_type": "code",
   "execution_count": 42,
   "metadata": {},
   "outputs": [
    {
     "name": "stdout",
     "output_type": "stream",
     "text": [
      "9\n"
     ]
    }
   ],
   "source": [
    "# Define the labels\n",
    "labels = [\n",
    "    'T-shirt/top',\n",
    "    'Trouser',\n",
    "    'Pullover',\n",
    "    'Dress',\n",
    "    'Coat',\n",
    "    'Sandal',\n",
    "    'Shirt',\n",
    "    'Sneaker',\n",
    "    'Bag',\n",
    "    'Ankle boot'\n",
    "]\n",
    "\n",
    "print(train_labels[0])"
   ]
  },
  {
   "cell_type": "code",
   "execution_count": 43,
   "metadata": {},
   "outputs": [],
   "source": [
    "# Rescale the image values so that they lie in between 0 and 1\n",
    "\n",
    "train_images = train_images / 255.\n",
    "test_images = test_images / 255."
   ]
  },
  {
   "cell_type": "code",
   "execution_count": 44,
   "metadata": {},
   "outputs": [
    {
     "data": {
      "image/png": "[encoded data removed]",
      "text/plain": [
       "<Figure size 640x480 with 1 Axes>"
      ]
     },
     "metadata": {},
     "output_type": "display_data"
    },
    {
     "name": "stdout",
     "output_type": "stream",
     "text": [
      "labels : Ankle boot\n"
     ]
    }
   ],
   "source": [
    "# Display one of the images\n",
    "i = 0\n",
    "img = train_images[0,:,:]\n",
    "plt.imshow(img)\n",
    "plt.show()\n",
    "print(f\"labels : {labels[train_labels[i]]}\")"
   ]
  },
  {
   "cell_type": "code",
   "execution_count": 45,
   "metadata": {},
   "outputs": [],
   "source": [
    "model = tf.keras.Sequential([\n",
    "    Conv2D(16, kernel_size = 3, activation = 'relu', input_shape = (28,28,1)),\n",
    "    MaxPooling2D((3,3)),\n",
    "    Flatten(),\n",
    "    Dense(50, activation = 'softmax'),\n",
    "])"
   ]
  },
  {
   "cell_type": "code",
   "execution_count": 46,
   "metadata": {},
   "outputs": [],
   "source": [
    "model.compile(optimizer=tf.keras.optimizers.Adam(learning_rate=0.005),\n",
    "              loss=tf.keras.losses.sparse_categorical_crossentropy,\n",
    "              metrics=['accuracy','mae'])"
   ]
  },
  {
   "cell_type": "code",
   "execution_count": 47,
   "metadata": {},
   "outputs": [
    {
     "name": "stdout",
     "output_type": "stream",
     "text": [
      "Epoch 1/8\n",
      "600/600 [==============================] - 7s 11ms/step - loss: 0.5016 - accuracy: 0.8232 - mae: 4.4840\n",
      "Epoch 2/8\n",
      "600/600 [==============================] - 7s 11ms/step - loss: 0.3509 - accuracy: 0.8758 - mae: 4.4840\n",
      "Epoch 3/8\n",
      "600/600 [==============================] - 9s 14ms/step - loss: 0.3206 - accuracy: 0.8852 - mae: 4.4840\n",
      "Epoch 4/8\n",
      "600/600 [==============================] - 8s 13ms/step - loss: 0.3055 - accuracy: 0.8904 - mae: 4.4840\n",
      "Epoch 5/8\n",
      "600/600 [==============================] - 7s 12ms/step - loss: 0.2931 - accuracy: 0.8951 - mae: 4.4840\n",
      "Epoch 6/8\n",
      "600/600 [==============================] - 8s 13ms/step - loss: 0.2840 - accuracy: 0.8970 - mae: 4.4840\n",
      "Epoch 7/8\n",
      "600/600 [==============================] - 7s 12ms/step - loss: 0.2784 - accuracy: 0.8995 - mae: 4.4840\n",
      "Epoch 8/8\n",
      "600/600 [==============================] - 7s 12ms/step - loss: 0.2715 - accuracy: 0.9010 - mae: 4.4840\n"
     ]
    }
   ],
   "source": [
    "# Fit the model\n",
    "\n",
    "history = model.fit(train_images[..., np.newaxis], train_labels, epochs=8, batch_size=100)"
   ]
  },
  {
   "cell_type": "code",
   "execution_count": 48,
   "metadata": {},
   "outputs": [
    {
     "data": {
      "text/html": [
       "<div>\n",
       "<style scoped>\n",
       "    .dataframe tbody tr th:only-of-type {\n",
       "        vertical-align: middle;\n",
       "    }\n",
       "\n",
       "    .dataframe tbody tr th {\n",
       "        vertical-align: top;\n",
       "    }\n",
       "\n",
       "    .dataframe thead th {\n",
       "        text-align: right;\n",
       "    }\n",
       "</style>\n",
       "<table border=\"1\" class=\"dataframe\">\n",
       "  <thead>\n",
       "    <tr style=\"text-align: right;\">\n",
       "      <th></th>\n",
       "      <th>loss</th>\n",
       "      <th>accuracy</th>\n",
       "      <th>mae</th>\n",
       "    </tr>\n",
       "  </thead>\n",
       "  <tbody>\n",
       "    <tr>\n",
       "      <th>0</th>\n",
       "      <td>0.501579</td>\n",
       "      <td>0.823167</td>\n",
       "      <td>4.483999</td>\n",
       "    </tr>\n",
       "    <tr>\n",
       "      <th>1</th>\n",
       "      <td>0.350861</td>\n",
       "      <td>0.875817</td>\n",
       "      <td>4.483998</td>\n",
       "    </tr>\n",
       "    <tr>\n",
       "      <th>2</th>\n",
       "      <td>0.320560</td>\n",
       "      <td>0.885183</td>\n",
       "      <td>4.483996</td>\n",
       "    </tr>\n",
       "    <tr>\n",
       "      <th>3</th>\n",
       "      <td>0.305549</td>\n",
       "      <td>0.890400</td>\n",
       "      <td>4.483997</td>\n",
       "    </tr>\n",
       "    <tr>\n",
       "      <th>4</th>\n",
       "      <td>0.293119</td>\n",
       "      <td>0.895133</td>\n",
       "      <td>4.483999</td>\n",
       "    </tr>\n",
       "  </tbody>\n",
       "</table>\n",
       "</div>"
      ],
      "text/plain": [
       "       loss  accuracy       mae\n",
       "0  0.501579  0.823167  4.483999\n",
       "1  0.350861  0.875817  4.483998\n",
       "2  0.320560  0.885183  4.483996\n",
       "3  0.305549  0.890400  4.483997\n",
       "4  0.293119  0.895133  4.483999"
      ]
     },
     "execution_count": 48,
     "metadata": {},
     "output_type": "execute_result"
    }
   ],
   "source": [
    "df = pd.DataFrame(history.history)\n",
    "df.head()"
   ]
  },
  {
   "cell_type": "code",
   "execution_count": 49,
   "metadata": {},
   "outputs": [
    {
     "data": {
      "text/plain": [
       "[Text(0.5, 0, 'Epochs'), Text(0, 0.5, 'Loss')]"
      ]
     },
     "execution_count": 49,
     "metadata": {},
     "output_type": "execute_result"
    },
    {
     "data": {
      "image/png": "[encoded data removed]",
      "text/plain": [
       "<Figure size 640x480 with 1 Axes>"
      ]
     },
     "metadata": {},
     "output_type": "display_data"
    }
   ],
   "source": [
    "loss_plot = df.plot(y='loss', title= 'Loss vs Epochs', legend = False)\n",
    "loss_plot.set(xlabel = 'Epochs', ylabel = 'Loss')"
   ]
  },
  {
   "cell_type": "markdown",
   "metadata": {},
   "source": [
    "#### 1.2.8 Evaluation and prediction"
   ]
  },
  {
   "cell_type": "code",
   "execution_count": 50,
   "metadata": {},
   "outputs": [],
   "source": [
    "import matplotlib.pyplot as plt\n",
    "import numpy as np"
   ]
  },
  {
   "cell_type": "code",
   "execution_count": 51,
   "metadata": {},
   "outputs": [
    {
     "name": "stdout",
     "output_type": "stream",
     "text": [
      "313/313 [==============================] - 1s 3ms/step - loss: 0.3209 - accuracy: 0.8887 - mae: 4.4840\n"
     ]
    }
   ],
   "source": [
    "# Evaluate the model\n",
    "\n",
    "test_loss, test_accuracy, test_mae = model.evaluate(test_images[..., np.newaxis], test_labels)"
   ]
  },
  {
   "cell_type": "code",
   "execution_count": 52,
   "metadata": {},
   "outputs": [
    {
     "data": {
      "image/png": "[encoded data removed]",
      "text/plain": [
       "<Figure size 640x480 with 1 Axes>"
      ]
     },
     "metadata": {},
     "output_type": "display_data"
    },
    {
     "name": "stdout",
     "output_type": "stream",
     "text": [
      "label: Shirt\n"
     ]
    }
   ],
   "source": [
    "# Make prediction from the model\n",
    "\n",
    "random_inx = np.random.choice(test_images.shape[0])\n",
    "inx = 30\n",
    "\n",
    "test_image = test_images[random_inx]\n",
    "plt.imshow(test_image)\n",
    "plt.show()\n",
    "print(f'label: {labels[test_labels[random_inx]]}')"
   ]
  },
  {
   "cell_type": "code",
   "execution_count": 53,
   "metadata": {},
   "outputs": [
    {
     "name": "stdout",
     "output_type": "stream",
     "text": [
      "1/1 [==============================] - 0s 98ms/step\n",
      "Model prediction : Shirt\n"
     ]
    }
   ],
   "source": [
    "# Get the model predictions\n",
    "\n",
    "predictions = model.predict(test_image[np.newaxis, ..., np.newaxis])\n",
    "print(f'Model prediction : {labels[np.argmax(predictions)]}')"
   ]
  }
 ],
 "metadata": {
  "kernelspec": {
   "display_name": "Python 3",
   "language": "python",
   "name": "python3"
  },
  "language_info": {
   "codemirror_mode": {
    "name": "ipython",
    "version": 3
   },
   "file_extension": ".py",
   "mimetype": "text/x-python",
   "name": "python",
   "nbconvert_exporter": "python",
   "pygments_lexer": "ipython3",
   "version": "3.11.1"
  },
  "orig_nbformat": 4
 },
 "nbformat": 4,
 "nbformat_minor": 2
}
